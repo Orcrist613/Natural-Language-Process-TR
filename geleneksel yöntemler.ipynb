{
 "cells": [
  {
   "cell_type": "code",
   "execution_count": 2,
   "id": "f64d8941-474e-4dc5-9e87-4547b119e810",
   "metadata": {},
   "outputs": [
    {
     "name": "stdout",
     "output_type": "stream",
     "text": [
      "WARNING:tensorflow:From C:\\Users\\Halid Buğra Gökdeniz\\AppData\\Local\\Programs\\Python\\Python311\\Lib\\site-packages\\tf_keras\\src\\losses.py:2976: The name tf.losses.sparse_softmax_cross_entropy is deprecated. Please use tf.compat.v1.losses.sparse_softmax_cross_entropy instead.\n",
      "\n"
     ]
    }
   ],
   "source": [
    "import pandas as pd\n",
    "import numpy as np\n",
    "from sklearn.model_selection import train_test_split\n",
    "from sklearn.feature_extraction.text import TfidfVectorizer\n",
    "from sklearn.decomposition import PCA\n",
    "from sklearn.linear_model import LogisticRegression\n",
    "from sklearn.svm import SVC\n",
    "from sklearn.neighbors import KNeighborsClassifier\n",
    "from sklearn.ensemble import RandomForestClassifier\n",
    "from sklearn.metrics import precision_score, recall_score, accuracy_score, f1_score\n",
    "import tensorflow as tf\n",
    "from tensorflow.keras.models import Sequential\n",
    "from tensorflow.keras.layers import Embedding, Conv1D, LSTM, Dense, Dropout, MaxPooling1D, Flatten\n",
    "from transformers import BertTokenizer, TFBertForSequenceClassification\n",
    "\n",
    "data = pd.read_csv(\"cleanData.csv\") \n",
    "X = data['cleanText']\n",
    "y = data['label']\n",
    "\n",
    "\n"
   ]
  },
  {
   "cell_type": "code",
   "execution_count": 3,
   "id": "3cce77fd-e800-4612-ace9-cd7aedfe41ba",
   "metadata": {},
   "outputs": [],
   "source": [
    "from TurkishStemmer import TurkishStemmer\n",
    "import re\n",
    "import nltk\n",
    "from nltk.corpus import stopwords"
   ]
  },
  {
   "cell_type": "code",
   "execution_count": 4,
   "id": "331b2833-e43f-499f-8a82-e4fc4854d5b9",
   "metadata": {},
   "outputs": [
    {
     "data": {
      "text/plain": [
       "<TurkishStemmer.TurkishStemmer at 0x282a05b6a90>"
      ]
     },
     "execution_count": 4,
     "metadata": {},
     "output_type": "execute_result"
    }
   ],
   "source": [
    "turk_stem = TurkishStemmer()\n",
    "turk_stem"
   ]
  },
  {
   "cell_type": "code",
   "execution_count": 5,
   "id": "85f9ac8b-7e26-4e06-82ec-c0919dad9aab",
   "metadata": {},
   "outputs": [],
   "source": [
    "def stemming(content):\n",
    "    review = re.sub('[^A-ZĞÜŞİÇÖ^a-zığüşöç]',' ',content)\n",
    "    review = review.lower()\n",
    "    review = review.split()\n",
    "    review = [turk_stem.stem(word) for word in review if not word in stopwords.words('turkish')]\n",
    "    review = ' '.join(review)\n",
    "    return review"
   ]
  },
  {
   "cell_type": "code",
   "execution_count": 6,
   "id": "433f92d3-bf0d-4d60-a1c4-e39e93a0b5c0",
   "metadata": {},
   "outputs": [],
   "source": [
    "data['cleanText'] = data['cleanText'].apply(stemming)"
   ]
  },
  {
   "cell_type": "code",
   "execution_count": 7,
   "id": "338cac00-94f9-419f-b193-0e1a070fd754",
   "metadata": {},
   "outputs": [
    {
     "name": "stdout",
     "output_type": "stream",
     "text": [
      "Test Accuracy: 0.8681666666666666\n",
      "              precision    recall  f1-score   support\n",
      "\n",
      "           0       0.83      0.97      0.89      6719\n",
      "           1       0.95      0.74      0.83      5281\n",
      "\n",
      "    accuracy                           0.87     12000\n",
      "   macro avg       0.89      0.85      0.86     12000\n",
      "weighted avg       0.88      0.87      0.87     12000\n",
      "\n"
     ]
    }
   ],
   "source": [
    "from sklearn.feature_extraction.text import TfidfVectorizer\n",
    "from sklearn.decomposition import TruncatedSVD\n",
    "from sklearn.model_selection import train_test_split\n",
    "from sklearn.preprocessing import LabelEncoder\n",
    "from sklearn.linear_model import LogisticRegression\n",
    "from sklearn.metrics import accuracy_score, classification_report\n",
    "import pandas as pd\n",
    "\n",
    "data = data.dropna(subset=['cleanText', 'label']).iloc[:40000]\n",
    "data = data[data['cleanText'].str.strip() != '']\n",
    "\n",
    "text_data = data['cleanText']\n",
    "labels = data['label']\n",
    "\n",
    "tfidf_vectorizer = TfidfVectorizer(max_features=30000)\n",
    "X_tfidf = tfidf_vectorizer.fit_transform(text_data)\n",
    "\n",
    "svd = TruncatedSVD(n_components= 400, random_state=42)\n",
    "X_reduced = svd.fit_transform(X_tfidf)\n",
    "\n",
    "label_encoder = LabelEncoder()\n",
    "y_encoded = label_encoder.fit_transform(labels)\n",
    "\n",
    "X_train, X_test, y_train, y_test = train_test_split(X_reduced, y_encoded, test_size=0.3, random_state=42)\n",
    "\n",
    "logistic_model = LogisticRegression(max_iter=500, random_state=42)\n",
    "logistic_model.fit(X_train, y_train)\n",
    "\n",
    "y_pred = logistic_model.predict(X_test)\n",
    "\n",
    "accuracy = accuracy_score(y_test, y_pred)\n",
    "print(f\"Test Accuracy: {accuracy}\")\n",
    "\n",
    "target_names = [str(cls) for cls in label_encoder.classes_]\n",
    "\n",
    "print(classification_report(y_test, y_pred, target_names=target_names))"
   ]
  },
  {
   "cell_type": "code",
   "execution_count": 8,
   "id": "07a3ea54-599e-4925-88d5-d912e13a1962",
   "metadata": {},
   "outputs": [
    {
     "data": {
      "text/html": [
       "<div>\n",
       "<style scoped>\n",
       "    .dataframe tbody tr th:only-of-type {\n",
       "        vertical-align: middle;\n",
       "    }\n",
       "\n",
       "    .dataframe tbody tr th {\n",
       "        vertical-align: top;\n",
       "    }\n",
       "\n",
       "    .dataframe thead th {\n",
       "        text-align: right;\n",
       "    }\n",
       "</style>\n",
       "<table border=\"1\" class=\"dataframe\">\n",
       "  <thead>\n",
       "    <tr style=\"text-align: right;\">\n",
       "      <th></th>\n",
       "      <th>cleanText</th>\n",
       "      <th>label</th>\n",
       "    </tr>\n",
       "  </thead>\n",
       "  <tbody>\n",
       "    <tr>\n",
       "      <th>0</th>\n",
       "      <td>gerçek siz hikaye izleyerek mi yen yıl girice</td>\n",
       "      <td>0</td>\n",
       "    </tr>\n",
       "    <tr>\n",
       "      <th>1</th>\n",
       "      <td>user çoook bi baklav bi sen zaten</td>\n",
       "      <td>0</td>\n",
       "    </tr>\n",
       "    <tr>\n",
       "      <th>2</th>\n",
       "      <td>sn dükel atatürk karm e m başlattık siyasi bağ...</td>\n",
       "      <td>0</td>\n",
       "    </tr>\n",
       "    <tr>\n",
       "      <th>3</th>\n",
       "      <td>konfederasyon ail sosyal politika bakanlık ist...</td>\n",
       "      <td>0</td>\n",
       "    </tr>\n",
       "    <tr>\n",
       "      <th>4</th>\n",
       "      <td>hakem tarih yazıyor kişi karş ön olacak alanya...</td>\n",
       "      <td>1</td>\n",
       "    </tr>\n",
       "  </tbody>\n",
       "</table>\n",
       "</div>"
      ],
      "text/plain": [
       "                                           cleanText  label\n",
       "0      gerçek siz hikaye izleyerek mi yen yıl girice      0\n",
       "1                  user çoook bi baklav bi sen zaten      0\n",
       "2  sn dükel atatürk karm e m başlattık siyasi bağ...      0\n",
       "3  konfederasyon ail sosyal politika bakanlık ist...      0\n",
       "4  hakem tarih yazıyor kişi karş ön olacak alanya...      1"
      ]
     },
     "execution_count": 8,
     "metadata": {},
     "output_type": "execute_result"
    }
   ],
   "source": [
    "data.head()"
   ]
  },
  {
   "cell_type": "code",
   "execution_count": 15,
   "id": "3519c22d-26ec-413a-92f5-d3e3bc048a21",
   "metadata": {},
   "outputs": [
    {
     "name": "stdout",
     "output_type": "stream",
     "text": [
      "Epoch 1/50\n"
     ]
    },
    {
     "name": "stderr",
     "output_type": "stream",
     "text": [
      "C:\\Users\\Halid Buğra Gökdeniz\\AppData\\Local\\Programs\\Python\\Python311\\Lib\\site-packages\\keras\\src\\layers\\core\\dense.py:87: UserWarning: Do not pass an `input_shape`/`input_dim` argument to a layer. When using Sequential models, prefer using an `Input(shape)` object as the first layer in the model instead.\n",
      "  super().__init__(activity_regularizer=activity_regularizer, **kwargs)\n"
     ]
    },
    {
     "name": "stdout",
     "output_type": "stream",
     "text": [
      "\u001b[1m875/875\u001b[0m \u001b[32m━━━━━━━━━━━━━━━━━━━━\u001b[0m\u001b[37m\u001b[0m \u001b[1m1s\u001b[0m 989us/step - accuracy: 0.7948 - loss: 0.4486 - val_accuracy: 0.8384 - val_loss: 0.3720\n",
      "Epoch 2/50\n",
      "\u001b[1m875/875\u001b[0m \u001b[32m━━━━━━━━━━━━━━━━━━━━\u001b[0m\u001b[37m\u001b[0m \u001b[1m1s\u001b[0m 859us/step - accuracy: 0.8486 - loss: 0.3593 - val_accuracy: 0.8468 - val_loss: 0.3575\n",
      "Epoch 3/50\n",
      "\u001b[1m875/875\u001b[0m \u001b[32m━━━━━━━━━━━━━━━━━━━━\u001b[0m\u001b[37m\u001b[0m \u001b[1m1s\u001b[0m 929us/step - accuracy: 0.8480 - loss: 0.3588 - val_accuracy: 0.8463 - val_loss: 0.3571\n",
      "Epoch 4/50\n",
      "\u001b[1m875/875\u001b[0m \u001b[32m━━━━━━━━━━━━━━━━━━━━\u001b[0m\u001b[37m\u001b[0m \u001b[1m1s\u001b[0m 971us/step - accuracy: 0.8485 - loss: 0.3531 - val_accuracy: 0.8501 - val_loss: 0.3535\n",
      "Epoch 5/50\n",
      "\u001b[1m875/875\u001b[0m \u001b[32m━━━━━━━━━━━━━━━━━━━━\u001b[0m\u001b[37m\u001b[0m \u001b[1m1s\u001b[0m 934us/step - accuracy: 0.8559 - loss: 0.3444 - val_accuracy: 0.8497 - val_loss: 0.3525\n",
      "Epoch 6/50\n",
      "\u001b[1m875/875\u001b[0m \u001b[32m━━━━━━━━━━━━━━━━━━━━\u001b[0m\u001b[37m\u001b[0m \u001b[1m1s\u001b[0m 899us/step - accuracy: 0.8554 - loss: 0.3439 - val_accuracy: 0.8503 - val_loss: 0.3504\n",
      "Epoch 7/50\n",
      "\u001b[1m875/875\u001b[0m \u001b[32m━━━━━━━━━━━━━━━━━━━━\u001b[0m\u001b[37m\u001b[0m \u001b[1m1s\u001b[0m 887us/step - accuracy: 0.8571 - loss: 0.3379 - val_accuracy: 0.8504 - val_loss: 0.3500\n",
      "Epoch 8/50\n",
      "\u001b[1m875/875\u001b[0m \u001b[32m━━━━━━━━━━━━━━━━━━━━\u001b[0m\u001b[37m\u001b[0m \u001b[1m1s\u001b[0m 879us/step - accuracy: 0.8588 - loss: 0.3312 - val_accuracy: 0.8499 - val_loss: 0.3517\n",
      "Epoch 9/50\n",
      "\u001b[1m875/875\u001b[0m \u001b[32m━━━━━━━━━━━━━━━━━━━━\u001b[0m\u001b[37m\u001b[0m \u001b[1m1s\u001b[0m 1ms/step - accuracy: 0.8594 - loss: 0.3287 - val_accuracy: 0.8508 - val_loss: 0.3525\n",
      "Epoch 10/50\n",
      "\u001b[1m875/875\u001b[0m \u001b[32m━━━━━━━━━━━━━━━━━━━━\u001b[0m\u001b[37m\u001b[0m \u001b[1m1s\u001b[0m 913us/step - accuracy: 0.8587 - loss: 0.3310 - val_accuracy: 0.8544 - val_loss: 0.3464\n",
      "Epoch 11/50\n",
      "\u001b[1m875/875\u001b[0m \u001b[32m━━━━━━━━━━━━━━━━━━━━\u001b[0m\u001b[37m\u001b[0m \u001b[1m1s\u001b[0m 985us/step - accuracy: 0.8629 - loss: 0.3220 - val_accuracy: 0.8506 - val_loss: 0.3508\n",
      "Epoch 12/50\n",
      "\u001b[1m875/875\u001b[0m \u001b[32m━━━━━━━━━━━━━━━━━━━━\u001b[0m\u001b[37m\u001b[0m \u001b[1m1s\u001b[0m 884us/step - accuracy: 0.8640 - loss: 0.3263 - val_accuracy: 0.8503 - val_loss: 0.3505\n",
      "Epoch 13/50\n",
      "\u001b[1m875/875\u001b[0m \u001b[32m━━━━━━━━━━━━━━━━━━━━\u001b[0m\u001b[37m\u001b[0m \u001b[1m1s\u001b[0m 912us/step - accuracy: 0.8635 - loss: 0.3173 - val_accuracy: 0.8500 - val_loss: 0.3660\n",
      "Epoch 14/50\n",
      "\u001b[1m875/875\u001b[0m \u001b[32m━━━━━━━━━━━━━━━━━━━━\u001b[0m\u001b[37m\u001b[0m \u001b[1m1s\u001b[0m 895us/step - accuracy: 0.8662 - loss: 0.3207 - val_accuracy: 0.8523 - val_loss: 0.3525\n",
      "Epoch 15/50\n",
      "\u001b[1m875/875\u001b[0m \u001b[32m━━━━━━━━━━━━━━━━━━━━\u001b[0m\u001b[37m\u001b[0m \u001b[1m1s\u001b[0m 879us/step - accuracy: 0.8652 - loss: 0.3154 - val_accuracy: 0.8474 - val_loss: 0.3594\n",
      "Epoch 16/50\n",
      "\u001b[1m875/875\u001b[0m \u001b[32m━━━━━━━━━━━━━━━━━━━━\u001b[0m\u001b[37m\u001b[0m \u001b[1m1s\u001b[0m 835us/step - accuracy: 0.8671 - loss: 0.3132 - val_accuracy: 0.8509 - val_loss: 0.3621\n",
      "Epoch 17/50\n",
      "\u001b[1m875/875\u001b[0m \u001b[32m━━━━━━━━━━━━━━━━━━━━\u001b[0m\u001b[37m\u001b[0m \u001b[1m1s\u001b[0m 907us/step - accuracy: 0.8695 - loss: 0.3055 - val_accuracy: 0.8507 - val_loss: 0.3578\n",
      "Epoch 18/50\n",
      "\u001b[1m875/875\u001b[0m \u001b[32m━━━━━━━━━━━━━━━━━━━━\u001b[0m\u001b[37m\u001b[0m \u001b[1m1s\u001b[0m 848us/step - accuracy: 0.8719 - loss: 0.3040 - val_accuracy: 0.8478 - val_loss: 0.3641\n",
      "Epoch 19/50\n",
      "\u001b[1m875/875\u001b[0m \u001b[32m━━━━━━━━━━━━━━━━━━━━\u001b[0m\u001b[37m\u001b[0m \u001b[1m1s\u001b[0m 849us/step - accuracy: 0.8711 - loss: 0.3062 - val_accuracy: 0.8460 - val_loss: 0.3694\n",
      "Epoch 20/50\n",
      "\u001b[1m875/875\u001b[0m \u001b[32m━━━━━━━━━━━━━━━━━━━━\u001b[0m\u001b[37m\u001b[0m \u001b[1m1s\u001b[0m 990us/step - accuracy: 0.8666 - loss: 0.3081 - val_accuracy: 0.8518 - val_loss: 0.3620\n",
      "Epoch 21/50\n",
      "\u001b[1m875/875\u001b[0m \u001b[32m━━━━━━━━━━━━━━━━━━━━\u001b[0m\u001b[37m\u001b[0m \u001b[1m1s\u001b[0m 1ms/step - accuracy: 0.8731 - loss: 0.2975 - val_accuracy: 0.8476 - val_loss: 0.3690\n",
      "Epoch 22/50\n",
      "\u001b[1m875/875\u001b[0m \u001b[32m━━━━━━━━━━━━━━━━━━━━\u001b[0m\u001b[37m\u001b[0m \u001b[1m1s\u001b[0m 1ms/step - accuracy: 0.8747 - loss: 0.2940 - val_accuracy: 0.8499 - val_loss: 0.3682\n",
      "Epoch 23/50\n",
      "\u001b[1m875/875\u001b[0m \u001b[32m━━━━━━━━━━━━━━━━━━━━\u001b[0m\u001b[37m\u001b[0m \u001b[1m1s\u001b[0m 1ms/step - accuracy: 0.8767 - loss: 0.2919 - val_accuracy: 0.8497 - val_loss: 0.3810\n",
      "Epoch 24/50\n",
      "\u001b[1m875/875\u001b[0m \u001b[32m━━━━━━━━━━━━━━━━━━━━\u001b[0m\u001b[37m\u001b[0m \u001b[1m1s\u001b[0m 1ms/step - accuracy: 0.8772 - loss: 0.2895 - val_accuracy: 0.8504 - val_loss: 0.3710\n",
      "Epoch 25/50\n",
      "\u001b[1m875/875\u001b[0m \u001b[32m━━━━━━━━━━━━━━━━━━━━\u001b[0m\u001b[37m\u001b[0m \u001b[1m1s\u001b[0m 1ms/step - accuracy: 0.8741 - loss: 0.2906 - val_accuracy: 0.8489 - val_loss: 0.3771\n",
      "Epoch 26/50\n",
      "\u001b[1m875/875\u001b[0m \u001b[32m━━━━━━━━━━━━━━━━━━━━\u001b[0m\u001b[37m\u001b[0m \u001b[1m1s\u001b[0m 953us/step - accuracy: 0.8783 - loss: 0.2826 - val_accuracy: 0.8495 - val_loss: 0.3779\n",
      "Epoch 27/50\n",
      "\u001b[1m875/875\u001b[0m \u001b[32m━━━━━━━━━━━━━━━━━━━━\u001b[0m\u001b[37m\u001b[0m \u001b[1m1s\u001b[0m 1ms/step - accuracy: 0.8820 - loss: 0.2787 - val_accuracy: 0.8488 - val_loss: 0.3728\n",
      "Epoch 28/50\n",
      "\u001b[1m875/875\u001b[0m \u001b[32m━━━━━━━━━━━━━━━━━━━━\u001b[0m\u001b[37m\u001b[0m \u001b[1m1s\u001b[0m 1ms/step - accuracy: 0.8869 - loss: 0.2742 - val_accuracy: 0.8468 - val_loss: 0.3835\n",
      "Epoch 29/50\n",
      "\u001b[1m875/875\u001b[0m \u001b[32m━━━━━━━━━━━━━━━━━━━━\u001b[0m\u001b[37m\u001b[0m \u001b[1m1s\u001b[0m 995us/step - accuracy: 0.8857 - loss: 0.2738 - val_accuracy: 0.8425 - val_loss: 0.4060\n",
      "Epoch 30/50\n",
      "\u001b[1m875/875\u001b[0m \u001b[32m━━━━━━━━━━━━━━━━━━━━\u001b[0m\u001b[37m\u001b[0m \u001b[1m1s\u001b[0m 1ms/step - accuracy: 0.8865 - loss: 0.2687 - val_accuracy: 0.8462 - val_loss: 0.3860\n",
      "Epoch 31/50\n",
      "\u001b[1m875/875\u001b[0m \u001b[32m━━━━━━━━━━━━━━━━━━━━\u001b[0m\u001b[37m\u001b[0m \u001b[1m1s\u001b[0m 1ms/step - accuracy: 0.8902 - loss: 0.2632 - val_accuracy: 0.8454 - val_loss: 0.3953\n",
      "Epoch 32/50\n",
      "\u001b[1m875/875\u001b[0m \u001b[32m━━━━━━━━━━━━━━━━━━━━\u001b[0m\u001b[37m\u001b[0m \u001b[1m1s\u001b[0m 969us/step - accuracy: 0.8900 - loss: 0.2640 - val_accuracy: 0.8487 - val_loss: 0.4032\n",
      "Epoch 33/50\n",
      "\u001b[1m875/875\u001b[0m \u001b[32m━━━━━━━━━━━━━━━━━━━━\u001b[0m\u001b[37m\u001b[0m \u001b[1m1s\u001b[0m 1ms/step - accuracy: 0.8856 - loss: 0.2699 - val_accuracy: 0.8453 - val_loss: 0.4053\n",
      "Epoch 34/50\n",
      "\u001b[1m875/875\u001b[0m \u001b[32m━━━━━━━━━━━━━━━━━━━━\u001b[0m\u001b[37m\u001b[0m \u001b[1m1s\u001b[0m 966us/step - accuracy: 0.8902 - loss: 0.2596 - val_accuracy: 0.8410 - val_loss: 0.4104\n",
      "Epoch 35/50\n",
      "\u001b[1m875/875\u001b[0m \u001b[32m━━━━━━━━━━━━━━━━━━━━\u001b[0m\u001b[37m\u001b[0m \u001b[1m1s\u001b[0m 989us/step - accuracy: 0.8916 - loss: 0.2579 - val_accuracy: 0.8432 - val_loss: 0.4166\n",
      "Epoch 36/50\n",
      "\u001b[1m875/875\u001b[0m \u001b[32m━━━━━━━━━━━━━━━━━━━━\u001b[0m\u001b[37m\u001b[0m \u001b[1m1s\u001b[0m 1ms/step - accuracy: 0.8903 - loss: 0.2609 - val_accuracy: 0.8432 - val_loss: 0.4254\n",
      "Epoch 37/50\n",
      "\u001b[1m875/875\u001b[0m \u001b[32m━━━━━━━━━━━━━━━━━━━━\u001b[0m\u001b[37m\u001b[0m \u001b[1m1s\u001b[0m 1ms/step - accuracy: 0.8939 - loss: 0.2541 - val_accuracy: 0.8427 - val_loss: 0.4121\n",
      "Epoch 38/50\n",
      "\u001b[1m875/875\u001b[0m \u001b[32m━━━━━━━━━━━━━━━━━━━━\u001b[0m\u001b[37m\u001b[0m \u001b[1m1s\u001b[0m 1ms/step - accuracy: 0.8958 - loss: 0.2484 - val_accuracy: 0.8441 - val_loss: 0.4215\n",
      "Epoch 39/50\n",
      "\u001b[1m875/875\u001b[0m \u001b[32m━━━━━━━━━━━━━━━━━━━━\u001b[0m\u001b[37m\u001b[0m \u001b[1m1s\u001b[0m 1ms/step - accuracy: 0.8943 - loss: 0.2492 - val_accuracy: 0.8416 - val_loss: 0.4373\n",
      "Epoch 40/50\n",
      "\u001b[1m875/875\u001b[0m \u001b[32m━━━━━━━━━━━━━━━━━━━━\u001b[0m\u001b[37m\u001b[0m \u001b[1m1s\u001b[0m 983us/step - accuracy: 0.8985 - loss: 0.2434 - val_accuracy: 0.8438 - val_loss: 0.4369\n",
      "Epoch 41/50\n",
      "\u001b[1m875/875\u001b[0m \u001b[32m━━━━━━━━━━━━━━━━━━━━\u001b[0m\u001b[37m\u001b[0m \u001b[1m1s\u001b[0m 1ms/step - accuracy: 0.9002 - loss: 0.2405 - val_accuracy: 0.8398 - val_loss: 0.4375\n",
      "Epoch 42/50\n",
      "\u001b[1m875/875\u001b[0m \u001b[32m━━━━━━━━━━━━━━━━━━━━\u001b[0m\u001b[37m\u001b[0m \u001b[1m1s\u001b[0m 961us/step - accuracy: 0.9007 - loss: 0.2367 - val_accuracy: 0.8359 - val_loss: 0.4383\n",
      "Epoch 43/50\n",
      "\u001b[1m875/875\u001b[0m \u001b[32m━━━━━━━━━━━━━━━━━━━━\u001b[0m\u001b[37m\u001b[0m \u001b[1m1s\u001b[0m 1ms/step - accuracy: 0.9032 - loss: 0.2335 - val_accuracy: 0.8402 - val_loss: 0.4584\n",
      "Epoch 44/50\n",
      "\u001b[1m875/875\u001b[0m \u001b[32m━━━━━━━━━━━━━━━━━━━━\u001b[0m\u001b[37m\u001b[0m \u001b[1m1s\u001b[0m 973us/step - accuracy: 0.9049 - loss: 0.2335 - val_accuracy: 0.8434 - val_loss: 0.4660\n",
      "Epoch 45/50\n",
      "\u001b[1m875/875\u001b[0m \u001b[32m━━━━━━━━━━━━━━━━━━━━\u001b[0m\u001b[37m\u001b[0m \u001b[1m1s\u001b[0m 1ms/step - accuracy: 0.9059 - loss: 0.2281 - val_accuracy: 0.8157 - val_loss: 0.4933\n",
      "Epoch 46/50\n",
      "\u001b[1m875/875\u001b[0m \u001b[32m━━━━━━━━━━━━━━━━━━━━\u001b[0m\u001b[37m\u001b[0m \u001b[1m1s\u001b[0m 959us/step - accuracy: 0.9046 - loss: 0.2314 - val_accuracy: 0.8289 - val_loss: 0.4862\n",
      "Epoch 47/50\n",
      "\u001b[1m875/875\u001b[0m \u001b[32m━━━━━━━━━━━━━━━━━━━━\u001b[0m\u001b[37m\u001b[0m \u001b[1m1s\u001b[0m 983us/step - accuracy: 0.9060 - loss: 0.2277 - val_accuracy: 0.8372 - val_loss: 0.4721\n",
      "Epoch 48/50\n",
      "\u001b[1m875/875\u001b[0m \u001b[32m━━━━━━━━━━━━━━━━━━━━\u001b[0m\u001b[37m\u001b[0m \u001b[1m1s\u001b[0m 1ms/step - accuracy: 0.9090 - loss: 0.2241 - val_accuracy: 0.8339 - val_loss: 0.4906\n",
      "Epoch 49/50\n",
      "\u001b[1m875/875\u001b[0m \u001b[32m━━━━━━━━━━━━━━━━━━━━\u001b[0m\u001b[37m\u001b[0m \u001b[1m1s\u001b[0m 1ms/step - accuracy: 0.9093 - loss: 0.2187 - val_accuracy: 0.8358 - val_loss: 0.4862\n",
      "Epoch 50/50\n",
      "\u001b[1m875/875\u001b[0m \u001b[32m━━━━━━━━━━━━━━━━━━━━\u001b[0m\u001b[37m\u001b[0m \u001b[1m1s\u001b[0m 999us/step - accuracy: 0.9115 - loss: 0.2134 - val_accuracy: 0.8328 - val_loss: 0.4973\n",
      "\u001b[1m375/375\u001b[0m \u001b[32m━━━━━━━━━━━━━━━━━━━━\u001b[0m\u001b[37m\u001b[0m \u001b[1m0s\u001b[0m 687us/step - accuracy: 0.8283 - loss: 0.4956\n",
      "Test Accuracy: 0.8327500224113464\n"
     ]
    }
   ],
   "source": [
    "from sklearn.feature_extraction.text import TfidfVectorizer\n",
    "from sklearn.decomposition import TruncatedSVD\n",
    "from sklearn.model_selection import train_test_split\n",
    "from sklearn.preprocessing import LabelEncoder\n",
    "from tensorflow.keras.models import Sequential\n",
    "from tensorflow.keras.layers import Dense\n",
    "from tensorflow.keras.utils import to_categorical\n",
    "import pandas as pd\n",
    "\n",
    "tfidf_vectorizer = TfidfVectorizer(max_features=300000)\n",
    "X_tfidf = tfidf_vectorizer.fit_transform(text_data)\n",
    "\n",
    "svd = TruncatedSVD(n_components= 32, random_state=42)\n",
    "X_reduced = svd.fit_transform(X_tfidf)\n",
    "\n",
    "label_encoder = LabelEncoder()\n",
    "y_encoded = label_encoder.fit_transform(labels)\n",
    "y_categorical = to_categorical(y_encoded)\n",
    "\n",
    "X_train, X_test, y_train, y_test = train_test_split(X_reduced, y_categorical, test_size=0.3, random_state=42)\n",
    "\n",
    "model = Sequential([\n",
    "    Dense(256, input_dim= 32, activation='relu'),\n",
    "    Dense(128, activation='relu'),\n",
    "    Dense(y_categorical.shape[1], activation='softmax')\n",
    "])\n",
    "\n",
    "model.compile(optimizer='adam', loss='categorical_crossentropy', metrics=['accuracy'])\n",
    "\n",
    "history = model.fit(X_train, y_train, epochs=50, batch_size=32, validation_data=(X_test, y_test))\n",
    "\n",
    "loss, accuracy = model.evaluate(X_test, y_test)\n",
    "print(f\"Test Accuracy: {accuracy}\")\n"
   ]
  },
  {
   "cell_type": "code",
   "execution_count": 16,
   "id": "db4d2aa7-faf8-4d83-b964-d4175c692c03",
   "metadata": {},
   "outputs": [
    {
     "name": "stdout",
     "output_type": "stream",
     "text": [
      "Test Accuracy: 0.8665833333333334\n",
      "              precision    recall  f1-score   support\n",
      "\n",
      "           0       0.82      0.98      0.89      6719\n",
      "           1       0.97      0.72      0.83      5281\n",
      "\n",
      "    accuracy                           0.87     12000\n",
      "   macro avg       0.89      0.85      0.86     12000\n",
      "weighted avg       0.88      0.87      0.86     12000\n",
      "\n"
     ]
    }
   ],
   "source": [
    "from sklearn.svm import SVC\n",
    "\n",
    "tfidf_vectorizer = TfidfVectorizer(max_features=30000)\n",
    "X_tfidf = tfidf_vectorizer.fit_transform(text_data)\n",
    "\n",
    "svd = TruncatedSVD(n_components=400, random_state=42)\n",
    "X_reduced = svd.fit_transform(X_tfidf)\n",
    "\n",
    "label_encoder = LabelEncoder()\n",
    "y_encoded = label_encoder.fit_transform(labels)\n",
    "\n",
    "X_train, X_test, y_train, y_test = train_test_split(X_reduced, y_encoded, test_size=0.3, random_state=42)\n",
    "\n",
    "svm_model = SVC(kernel='linear', random_state=42)\n",
    "\n",
    "svm_model.fit(X_train, y_train)\n",
    "\n",
    "y_pred = svm_model.predict(X_test)\n",
    "\n",
    "accuracy = accuracy_score(y_test, y_pred)\n",
    "print(f\"Test Accuracy: {accuracy}\")\n",
    "\n",
    "print(classification_report(y_test, y_pred, target_names=[str(label) for label in label_encoder.classes_]))\n"
   ]
  },
  {
   "cell_type": "code",
   "execution_count": 20,
   "id": "5a823a63-80ab-4e81-abb3-3a167c5dc927",
   "metadata": {},
   "outputs": [
    {
     "name": "stdout",
     "output_type": "stream",
     "text": [
      "Test Accuracy: 0.7600833333333333\n",
      "              precision    recall  f1-score   support\n",
      "\n",
      "           0       0.72      0.94      0.81      6719\n",
      "           1       0.87      0.53      0.66      5281\n",
      "\n",
      "    accuracy                           0.76     12000\n",
      "   macro avg       0.80      0.74      0.74     12000\n",
      "weighted avg       0.79      0.76      0.75     12000\n",
      "\n"
     ]
    }
   ],
   "source": [
    "from sklearn.neighbors import KNeighborsClassifier\n",
    "\n",
    "tfidf_vectorizer = TfidfVectorizer(max_features=30000)\n",
    "X_tfidf = tfidf_vectorizer.fit_transform(text_data)\n",
    "\n",
    "svd = TruncatedSVD(n_components=400, random_state=42)\n",
    "X_reduced = svd.fit_transform(X_tfidf)\n",
    "\n",
    "label_encoder = LabelEncoder()\n",
    "y_encoded = label_encoder.fit_transform(labels)\n",
    "\n",
    "X_train, X_test, y_train, y_test = train_test_split(X_reduced, y_encoded, test_size=0.3, random_state=42)\n",
    "\n",
    "knn_model = KNeighborsClassifier(n_neighbors=5) \n",
    "\n",
    "knn_model.fit(X_train, y_train)\n",
    "\n",
    "y_pred = knn_model.predict(X_test)\n",
    "\n",
    "accuracy = accuracy_score(y_test, y_pred)\n",
    "print(f\"Test Accuracy: {accuracy}\")\n",
    "\n",
    "print(classification_report(y_test, y_pred, target_names=[str(label) for label in label_encoder.classes_]))\n"
   ]
  },
  {
   "cell_type": "code",
   "execution_count": 23,
   "id": "9fe11e88-cb90-4a99-9b04-baa137f6c9d1",
   "metadata": {},
   "outputs": [
    {
     "name": "stdout",
     "output_type": "stream",
     "text": [
      "Test Accuracy: 0.7985833333333333\n",
      "              precision    recall  f1-score   support\n",
      "\n",
      "           0       0.77      0.76      0.76      6719\n",
      "           1       0.70      0.71      0.70      5281\n",
      "\n",
      "    accuracy                           0.74     12000\n",
      "   macro avg       0.73      0.73      0.73     12000\n",
      "weighted avg       0.74      0.74      0.74     12000\n",
      "\n"
     ]
    }
   ],
   "source": [
    "from sklearn.tree import DecisionTreeClassifier\n",
    "\n",
    "tfidf_vectorizer = TfidfVectorizer(max_features=30000)\n",
    "X_tfidf = tfidf_vectorizer.fit_transform(text_data)\n",
    "\n",
    "svd = TruncatedSVD(n_components=400, random_state=42)\n",
    "X_reduced = svd.fit_transform(X_tfidf)\n",
    "\n",
    "label_encoder = LabelEncoder()\n",
    "y_encoded = label_encoder.fit_transform(labels)\n",
    "\n",
    "X_train, X_test, y_train, y_test = train_test_split(X_reduced, y_encoded, test_size=0.3, random_state=42)\n",
    "\n",
    "decision_tree_model = DecisionTreeClassifier(random_state=42, max_depth=100)  # max_depth ile ağacın derinliği sınırlandı\n",
    "\n",
    "decision_tree_model.fit(X_train, y_train)\n",
    "\n",
    "y_pred = decision_tree_model.predict(X_test)\n",
    "\n",
    "print(f\"Test Accuracy: {accuracy}\")\n",
    "\n",
    "print(classification_report(y_test, y_pred, target_names=[str(label) for label in label_encoder.classes_]))\n"
   ]
  },
  {
   "cell_type": "code",
   "execution_count": null,
   "id": "fc5c5baf-7211-4ddb-a15b-18efcecc12a4",
   "metadata": {},
   "outputs": [],
   "source": []
  }
 ],
 "metadata": {
  "kernelspec": {
   "display_name": "Python 3 (ipykernel)",
   "language": "python",
   "name": "python3"
  },
  "language_info": {
   "codemirror_mode": {
    "name": "ipython",
    "version": 3
   },
   "file_extension": ".py",
   "mimetype": "text/x-python",
   "name": "python",
   "nbconvert_exporter": "python",
   "pygments_lexer": "ipython3",
   "version": "3.11.4"
  }
 },
 "nbformat": 4,
 "nbformat_minor": 5
}
