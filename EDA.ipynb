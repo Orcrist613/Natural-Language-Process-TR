{
 "cells": [
  {
   "cell_type": "code",
   "execution_count": 17,
   "id": "893f0ef1-4664-4c9f-961b-9805bf8382aa",
   "metadata": {},
   "outputs": [],
   "source": [
    "import pandas as pd"
   ]
  },
  {
   "cell_type": "code",
   "execution_count": 18,
   "id": "b0a413a6-8775-4e91-8ee7-c41999d74e38",
   "metadata": {},
   "outputs": [],
   "source": [
    "import numpy as nm"
   ]
  },
  {
   "cell_type": "code",
   "execution_count": 19,
   "id": "dfee8e00-7eae-4bbb-88fc-6a2ce72d7194",
   "metadata": {},
   "outputs": [],
   "source": [
    "import matplotlib.pyplot as plt"
   ]
  },
  {
   "cell_type": "code",
   "execution_count": 20,
   "id": "0a324ed9-a717-406a-a424-61db91946d39",
   "metadata": {},
   "outputs": [],
   "source": [
    "import seaborn as sns\n"
   ]
  },
  {
   "cell_type": "code",
   "execution_count": 21,
   "id": "57725c44-0c3b-485f-9e5c-3c9ebb1068f8",
   "metadata": {},
   "outputs": [],
   "source": [
    "import re"
   ]
  },
  {
   "cell_type": "code",
   "execution_count": 22,
   "id": "b2a8176a-968b-49da-976c-d9fc5fab9ef7",
   "metadata": {},
   "outputs": [],
   "source": [
    "data = pd.read_csv(\"train.csv\")"
   ]
  },
  {
   "cell_type": "code",
   "execution_count": 23,
   "id": "8efcb126-1ed2-400f-8d69-370e6c5913ff",
   "metadata": {},
   "outputs": [
    {
     "data": {
      "text/html": [
       "<div>\n",
       "<style scoped>\n",
       "    .dataframe tbody tr th:only-of-type {\n",
       "        vertical-align: middle;\n",
       "    }\n",
       "\n",
       "    .dataframe tbody tr th {\n",
       "        vertical-align: top;\n",
       "    }\n",
       "\n",
       "    .dataframe thead th {\n",
       "        text-align: right;\n",
       "    }\n",
       "</style>\n",
       "<table border=\"1\" class=\"dataframe\">\n",
       "  <thead>\n",
       "    <tr style=\"text-align: right;\">\n",
       "      <th></th>\n",
       "      <th>id</th>\n",
       "      <th>text</th>\n",
       "      <th>label</th>\n",
       "    </tr>\n",
       "  </thead>\n",
       "  <tbody>\n",
       "    <tr>\n",
       "      <th>0</th>\n",
       "      <td>26418.0</td>\n",
       "      <td>Gerçekten sizin hikayelerinizi izleyerek mi ye...</td>\n",
       "      <td>0</td>\n",
       "    </tr>\n",
       "    <tr>\n",
       "      <th>1</th>\n",
       "      <td>14473.0</td>\n",
       "      <td>@USER Çoook çok bi baklava bi sen zaten</td>\n",
       "      <td>0</td>\n",
       "    </tr>\n",
       "    <tr>\n",
       "      <th>2</th>\n",
       "      <td>16107.0</td>\n",
       "      <td>1) Sn. DÜKEL; Atatürk'ün, Karma E. M. ile başl...</td>\n",
       "      <td>0</td>\n",
       "    </tr>\n",
       "    <tr>\n",
       "      <th>3</th>\n",
       "      <td>45908.0</td>\n",
       "      <td>Konfederasyonumuzun Aile ve Sosyal Politikalar...</td>\n",
       "      <td>0</td>\n",
       "    </tr>\n",
       "    <tr>\n",
       "      <th>4</th>\n",
       "      <td>12878.0</td>\n",
       "      <td>Hakemler tarih yazıyorlar / 9 kişiye karşı 3-2...</td>\n",
       "      <td>1</td>\n",
       "    </tr>\n",
       "    <tr>\n",
       "      <th>5</th>\n",
       "      <td>22887.0</td>\n",
       "      <td>@USER @USER @USER @USER @USER @USER @USER @USE...</td>\n",
       "      <td>0</td>\n",
       "    </tr>\n",
       "    <tr>\n",
       "      <th>6</th>\n",
       "      <td>42028.0</td>\n",
       "      <td>#KYKYurtZammınaHayır Öğrenci sizin gelir kayna...</td>\n",
       "      <td>0</td>\n",
       "    </tr>\n",
       "    <tr>\n",
       "      <th>7</th>\n",
       "      <td>34514.0</td>\n",
       "      <td>@USER @USER Sabırlı ol. Soruşturma devam ediyo...</td>\n",
       "      <td>0</td>\n",
       "    </tr>\n",
       "    <tr>\n",
       "      <th>8</th>\n",
       "      <td>21684.0</td>\n",
       "      <td>Toprağın üstünde Aziz ettin .!   Toprağın altı...</td>\n",
       "      <td>0</td>\n",
       "    </tr>\n",
       "    <tr>\n",
       "      <th>9</th>\n",
       "      <td>37783.0</td>\n",
       "      <td>Rüyalarımda mevzu her ne olursa olsun, asla so...</td>\n",
       "      <td>0</td>\n",
       "    </tr>\n",
       "  </tbody>\n",
       "</table>\n",
       "</div>"
      ],
      "text/plain": [
       "        id                                               text  label\n",
       "0  26418.0  Gerçekten sizin hikayelerinizi izleyerek mi ye...      0\n",
       "1  14473.0            @USER Çoook çok bi baklava bi sen zaten      0\n",
       "2  16107.0  1) Sn. DÜKEL; Atatürk'ün, Karma E. M. ile başl...      0\n",
       "3  45908.0  Konfederasyonumuzun Aile ve Sosyal Politikalar...      0\n",
       "4  12878.0  Hakemler tarih yazıyorlar / 9 kişiye karşı 3-2...      1\n",
       "5  22887.0  @USER @USER @USER @USER @USER @USER @USER @USE...      0\n",
       "6  42028.0  #KYKYurtZammınaHayır Öğrenci sizin gelir kayna...      0\n",
       "7  34514.0  @USER @USER Sabırlı ol. Soruşturma devam ediyo...      0\n",
       "8  21684.0  Toprağın üstünde Aziz ettin .!   Toprağın altı...      0\n",
       "9  37783.0  Rüyalarımda mevzu her ne olursa olsun, asla so...      0"
      ]
     },
     "execution_count": 23,
     "metadata": {},
     "output_type": "execute_result"
    }
   ],
   "source": [
    "data.head(10)"
   ]
  },
  {
   "cell_type": "code",
   "execution_count": 24,
   "id": "bfca6944-9c35-4cc5-aba8-6e177012b99c",
   "metadata": {},
   "outputs": [
    {
     "name": "stdout",
     "output_type": "stream",
     "text": [
      "<class 'pandas.core.frame.DataFrame'>\n",
      "RangeIndex: 42398 entries, 0 to 42397\n",
      "Data columns (total 3 columns):\n",
      " #   Column  Non-Null Count  Dtype  \n",
      "---  ------  --------------  -----  \n",
      " 0   id      27993 non-null  float64\n",
      " 1   text    42398 non-null  object \n",
      " 2   label   42398 non-null  int64  \n",
      "dtypes: float64(1), int64(1), object(1)\n",
      "memory usage: 993.8+ KB\n"
     ]
    }
   ],
   "source": [
    "data.info()"
   ]
  },
  {
   "cell_type": "code",
   "execution_count": 25,
   "id": "0dc6bb25-9380-464a-9b8b-7d2df854131a",
   "metadata": {},
   "outputs": [
    {
     "data": {
      "text/plain": [
       "id       27993\n",
       "text     42398\n",
       "label        2\n",
       "dtype: int64"
      ]
     },
     "execution_count": 25,
     "metadata": {},
     "output_type": "execute_result"
    }
   ],
   "source": [
    "data.nunique()"
   ]
  },
  {
   "cell_type": "code",
   "execution_count": 26,
   "id": "614ca88c-649d-46ff-812c-18cfee236f7e",
   "metadata": {},
   "outputs": [
    {
     "data": {
      "text/plain": [
       "id       14405\n",
       "text         0\n",
       "label        0\n",
       "dtype: int64"
      ]
     },
     "execution_count": 26,
     "metadata": {},
     "output_type": "execute_result"
    }
   ],
   "source": [
    "data.isnull().sum()"
   ]
  },
  {
   "cell_type": "code",
   "execution_count": 27,
   "id": "7933ef0b-9b74-45eb-8098-2d6838300f96",
   "metadata": {},
   "outputs": [
    {
     "data": {
      "text/plain": [
       "id       33.975659\n",
       "text      0.000000\n",
       "label     0.000000\n",
       "dtype: float64"
      ]
     },
     "execution_count": 27,
     "metadata": {},
     "output_type": "execute_result"
    }
   ],
   "source": [
    "(data.isnull().sum()/(len(data)))*100\n"
   ]
  },
  {
   "cell_type": "code",
   "execution_count": 28,
   "id": "689e133d-6998-4f2b-869c-7864f8b5f567",
   "metadata": {},
   "outputs": [],
   "source": [
    "data = data.drop(['id'], axis = 1)"
   ]
  },
  {
   "cell_type": "code",
   "execution_count": 29,
   "id": "ebcdada3-4c69-4030-b35d-51e22da1fba6",
   "metadata": {},
   "outputs": [
    {
     "data": {
      "text/html": [
       "<div>\n",
       "<style scoped>\n",
       "    .dataframe tbody tr th:only-of-type {\n",
       "        vertical-align: middle;\n",
       "    }\n",
       "\n",
       "    .dataframe tbody tr th {\n",
       "        vertical-align: top;\n",
       "    }\n",
       "\n",
       "    .dataframe thead th {\n",
       "        text-align: right;\n",
       "    }\n",
       "</style>\n",
       "<table border=\"1\" class=\"dataframe\">\n",
       "  <thead>\n",
       "    <tr style=\"text-align: right;\">\n",
       "      <th></th>\n",
       "      <th>text</th>\n",
       "      <th>label</th>\n",
       "    </tr>\n",
       "  </thead>\n",
       "  <tbody>\n",
       "    <tr>\n",
       "      <th>0</th>\n",
       "      <td>Gerçekten sizin hikayelerinizi izleyerek mi ye...</td>\n",
       "      <td>0</td>\n",
       "    </tr>\n",
       "    <tr>\n",
       "      <th>1</th>\n",
       "      <td>@USER Çoook çok bi baklava bi sen zaten</td>\n",
       "      <td>0</td>\n",
       "    </tr>\n",
       "    <tr>\n",
       "      <th>2</th>\n",
       "      <td>1) Sn. DÜKEL; Atatürk'ün, Karma E. M. ile başl...</td>\n",
       "      <td>0</td>\n",
       "    </tr>\n",
       "    <tr>\n",
       "      <th>3</th>\n",
       "      <td>Konfederasyonumuzun Aile ve Sosyal Politikalar...</td>\n",
       "      <td>0</td>\n",
       "    </tr>\n",
       "    <tr>\n",
       "      <th>4</th>\n",
       "      <td>Hakemler tarih yazıyorlar / 9 kişiye karşı 3-2...</td>\n",
       "      <td>1</td>\n",
       "    </tr>\n",
       "  </tbody>\n",
       "</table>\n",
       "</div>"
      ],
      "text/plain": [
       "                                                text  label\n",
       "0  Gerçekten sizin hikayelerinizi izleyerek mi ye...      0\n",
       "1            @USER Çoook çok bi baklava bi sen zaten      0\n",
       "2  1) Sn. DÜKEL; Atatürk'ün, Karma E. M. ile başl...      0\n",
       "3  Konfederasyonumuzun Aile ve Sosyal Politikalar...      0\n",
       "4  Hakemler tarih yazıyorlar / 9 kişiye karşı 3-2...      1"
      ]
     },
     "execution_count": 29,
     "metadata": {},
     "output_type": "execute_result"
    }
   ],
   "source": [
    "data.head()"
   ]
  },
  {
   "cell_type": "code",
   "execution_count": 30,
   "id": "969b4dda-b9b2-45d1-9be5-6ddae38fde20",
   "metadata": {},
   "outputs": [
    {
     "data": {
      "text/html": [
       "<div>\n",
       "<style scoped>\n",
       "    .dataframe tbody tr th:only-of-type {\n",
       "        vertical-align: middle;\n",
       "    }\n",
       "\n",
       "    .dataframe tbody tr th {\n",
       "        vertical-align: top;\n",
       "    }\n",
       "\n",
       "    .dataframe thead th {\n",
       "        text-align: right;\n",
       "    }\n",
       "</style>\n",
       "<table border=\"1\" class=\"dataframe\">\n",
       "  <thead>\n",
       "    <tr style=\"text-align: right;\">\n",
       "      <th></th>\n",
       "      <th>count</th>\n",
       "      <th>unique</th>\n",
       "      <th>top</th>\n",
       "      <th>freq</th>\n",
       "      <th>mean</th>\n",
       "      <th>std</th>\n",
       "      <th>min</th>\n",
       "      <th>25%</th>\n",
       "      <th>50%</th>\n",
       "      <th>75%</th>\n",
       "      <th>max</th>\n",
       "    </tr>\n",
       "  </thead>\n",
       "  <tbody>\n",
       "    <tr>\n",
       "      <th>text</th>\n",
       "      <td>42398</td>\n",
       "      <td>42398</td>\n",
       "      <td>Bi airdrop sapığı eksikti aq</td>\n",
       "      <td>1</td>\n",
       "      <td>NaN</td>\n",
       "      <td>NaN</td>\n",
       "      <td>NaN</td>\n",
       "      <td>NaN</td>\n",
       "      <td>NaN</td>\n",
       "      <td>NaN</td>\n",
       "      <td>NaN</td>\n",
       "    </tr>\n",
       "    <tr>\n",
       "      <th>label</th>\n",
       "      <td>42398.0</td>\n",
       "      <td>NaN</td>\n",
       "      <td>NaN</td>\n",
       "      <td>NaN</td>\n",
       "      <td>0.467215</td>\n",
       "      <td>0.49893</td>\n",
       "      <td>0.0</td>\n",
       "      <td>0.0</td>\n",
       "      <td>0.0</td>\n",
       "      <td>1.0</td>\n",
       "      <td>1.0</td>\n",
       "    </tr>\n",
       "  </tbody>\n",
       "</table>\n",
       "</div>"
      ],
      "text/plain": [
       "         count unique                           top freq      mean      std  \\\n",
       "text     42398  42398  Bi airdrop sapığı eksikti aq    1       NaN      NaN   \n",
       "label  42398.0    NaN                           NaN  NaN  0.467215  0.49893   \n",
       "\n",
       "       min  25%  50%  75%  max  \n",
       "text   NaN  NaN  NaN  NaN  NaN  \n",
       "label  0.0  0.0  0.0  1.0  1.0  "
      ]
     },
     "execution_count": 30,
     "metadata": {},
     "output_type": "execute_result"
    }
   ],
   "source": [
    "data.describe(include='all').T"
   ]
  },
  {
   "cell_type": "code",
   "execution_count": 31,
   "id": "f223c80b-1a37-4ea2-ab18-cb7fc7072c00",
   "metadata": {},
   "outputs": [
    {
     "data": {
      "text/html": [
       "<div>\n",
       "<style scoped>\n",
       "    .dataframe tbody tr th:only-of-type {\n",
       "        vertical-align: middle;\n",
       "    }\n",
       "\n",
       "    .dataframe tbody tr th {\n",
       "        vertical-align: top;\n",
       "    }\n",
       "\n",
       "    .dataframe thead th {\n",
       "        text-align: right;\n",
       "    }\n",
       "</style>\n",
       "<table border=\"1\" class=\"dataframe\">\n",
       "  <thead>\n",
       "    <tr style=\"text-align: right;\">\n",
       "      <th></th>\n",
       "      <th>text</th>\n",
       "      <th>label</th>\n",
       "    </tr>\n",
       "  </thead>\n",
       "  <tbody>\n",
       "    <tr>\n",
       "      <th>42393</th>\n",
       "      <td>Takım otobüsüne saldırmak nedir ulan şerefini ...</td>\n",
       "      <td>1</td>\n",
       "    </tr>\n",
       "    <tr>\n",
       "      <th>42394</th>\n",
       "      <td>@nightmareess_ Aynı bu şekldiyedim ya  başlica...</td>\n",
       "      <td>1</td>\n",
       "    </tr>\n",
       "    <tr>\n",
       "      <th>42395</th>\n",
       "      <td>@prodbyjaysou @kkesbekes ya kaybol twitimden k...</td>\n",
       "      <td>1</td>\n",
       "    </tr>\n",
       "    <tr>\n",
       "      <th>42396</th>\n",
       "      <td>@82_6363AB Ben hdpliyim ve vermeyecem ama akp ...</td>\n",
       "      <td>1</td>\n",
       "    </tr>\n",
       "    <tr>\n",
       "      <th>42397</th>\n",
       "      <td>Bi airdrop sapığı eksikti aq</td>\n",
       "      <td>1</td>\n",
       "    </tr>\n",
       "  </tbody>\n",
       "</table>\n",
       "</div>"
      ],
      "text/plain": [
       "                                                    text  label\n",
       "42393  Takım otobüsüne saldırmak nedir ulan şerefini ...      1\n",
       "42394  @nightmareess_ Aynı bu şekldiyedim ya  başlica...      1\n",
       "42395  @prodbyjaysou @kkesbekes ya kaybol twitimden k...      1\n",
       "42396  @82_6363AB Ben hdpliyim ve vermeyecem ama akp ...      1\n",
       "42397                       Bi airdrop sapığı eksikti aq      1"
      ]
     },
     "execution_count": 31,
     "metadata": {},
     "output_type": "execute_result"
    }
   ],
   "source": [
    "data.tail()"
   ]
  },
  {
   "cell_type": "code",
   "execution_count": 32,
   "id": "4bbc712f-5209-46d9-b713-932ac40bd97e",
   "metadata": {},
   "outputs": [
    {
     "name": "stdout",
     "output_type": "stream",
     "text": [
      "Categorical Variables:\n",
      "Index(['text'], dtype='object')\n",
      "Numerical Variables:\n",
      "['label']\n"
     ]
    }
   ],
   "source": [
    "cat_cols=data.select_dtypes(include=['object']).columns\n",
    "num_cols = data.select_dtypes(include=nm.number).columns.tolist()\n",
    "print(\"Categorical Variables:\")\n",
    "print(cat_cols)\n",
    "print(\"Numerical Variables:\")\n",
    "print(num_cols)\n"
   ]
  },
  {
   "cell_type": "code",
   "execution_count": 33,
   "id": "53daffc2-203f-413e-a17a-7409ed8bba0f",
   "metadata": {},
   "outputs": [
    {
     "data": {
      "text/plain": [
       "<Axes: xlabel='label', ylabel='count'>"
      ]
     },
     "execution_count": 33,
     "metadata": {},
     "output_type": "execute_result"
    },
    {
     "data": {
      "image/png": "[encoded data removed]",
      "text/plain": [
       "<Figure size 400x400 with 1 Axes>"
      ]
     },
     "metadata": {},
     "output_type": "display_data"
    }
   ],
   "source": [
    "fig, ax = plt.subplots(figsize=(4, 4))\n",
    "fig.suptitle('Olumlu vs olumsuz yorum sayıları')\n",
    "sns.countplot(ax=ax, x='label', data=data, color='blue', order=data['label'].value_counts().index)\n"
   ]
  },
  {
   "cell_type": "code",
   "execution_count": 34,
   "id": "0a126905-74c0-4304-878f-ad843ececdfa",
   "metadata": {},
   "outputs": [
    {
     "name": "stdout",
     "output_type": "stream",
     "text": [
      "user: 21126\n",
      "bir: 8781\n",
      "bu: 8633\n",
      "ve: 5471\n",
      "ne: 4926\n",
      "amk: 4876\n",
      "de: 4373\n",
      "da: 3934\n",
      "çok: 3534\n",
      "o: 3364\n"
     ]
    }
   ],
   "source": [
    "from collections import Counter\n",
    "import re\n",
    "\n",
    "# Örnek olarak 'message' sütunundaki metinleri alıyoruz (sen kendi sütununu kullanabilirsin)\n",
    "text_data = \" \".join(data['text'].astype(str))  # Tüm mesajları tek bir metin haline getiriyoruz\n",
    "\n",
    "# Metni temizleme: Noktalama işaretlerini kaldır, küçük harfe çevir\n",
    "cleaned_text = re.sub(r'[^\\w\\s]', '', text_data.lower())\n",
    "\n",
    "# Kelimeleri ayırma\n",
    "words = cleaned_text.split()\n",
    "\n",
    "# Kelimeleri sayma\n",
    "word_counts = Counter(words)\n",
    "\n",
    "# En çok geçen 10 kelimeyi bulma\n",
    "most_common_words = word_counts.most_common(10)\n",
    "\n",
    "# Sonuçları yazdırma\n",
    "for word, count in most_common_words:\n",
    "    print(f\"{word}: {count}\")\n"
   ]
  },
  {
   "cell_type": "code",
   "execution_count": 35,
   "id": "617e59d3-6e3c-4226-9291-3ebc08424e8d",
   "metadata": {},
   "outputs": [
    {
     "name": "stderr",
     "output_type": "stream",
     "text": [
      "[nltk_data] Downloading package stopwords to C:\\Users\\Halid Buğra\n",
      "[nltk_data]     Gökdeniz\\AppData\\Roaming\\nltk_data...\n",
      "[nltk_data]   Package stopwords is already up-to-date!\n"
     ]
    },
    {
     "name": "stdout",
     "output_type": "stream",
     "text": [
      "user: 21126\n",
      "bir: 8781\n",
      "amk: 4876\n",
      "aq: 3256\n",
      "ben: 3104\n",
      "var: 2856\n",
      "bi: 2748\n",
      "kadar: 2728\n",
      "yok: 2475\n",
      "mi: 2077\n",
      "sen: 2007\n",
      "değil: 1969\n",
      "bile: 1535\n",
      "iyi: 1533\n",
      "sonra: 1505\n",
      "senin: 1404\n",
      "olsun: 1351\n",
      "koduğumun: 1323\n",
      "güzel: 1294\n",
      "böyle: 1276\n",
      "seni: 1242\n",
      "artık: 1134\n",
      "amına: 1132\n",
      "olan: 1032\n",
      "zaman: 1007\n",
      "benim: 1002\n",
      "bana: 985\n",
      "zaten: 918\n",
      "olarak: 905\n",
      "şimdi: 877\n"
     ]
    }
   ],
   "source": [
    "import nltk\n",
    "from collections import Counter\n",
    "import re\n",
    "\n",
    "# NLTK stopwords'i indirme\n",
    "nltk.download('stopwords')\n",
    "from nltk.corpus import stopwords\n",
    "\n",
    "# Örnek olarak 'message' sütunundaki metinleri alıyoruz (sen kendi sütununu kullanabilirsin)\n",
    "text_data = \" \".join(data['text'].astype(str))  # Tüm mesajları tek bir metin haline getiriyoruz\n",
    "\n",
    "# Metni temizleme: Noktalama işaretlerini kaldır, küçük harfe çevir\n",
    "cleaned_text = re.sub(r'[^\\w\\s]', '', text_data.lower())\n",
    "\n",
    "# Kelimeleri ayırma\n",
    "words = cleaned_text.split()\n",
    "\n",
    "# İngilizce stopwords listesini alıyoruz\n",
    "stop_words = set(stopwords.words('turkish'))\n",
    "\n",
    "# Stopwords olmayan kelimeleri filtreleme\n",
    "filtered_words = [word for word in words if word not in stop_words]\n",
    "\n",
    "# Kelimeleri sayma\n",
    "word_counts = Counter(filtered_words)\n",
    "\n",
    "# En çok geçen 10 kelimeyi bulma\n",
    "most_common_words = word_counts.most_common(30)\n",
    "\n",
    "# Sonuçları yazdırma\n",
    "for word, count in most_common_words:\n",
    "    print(f\"{word}: {count}\")\n"
   ]
  },
  {
   "cell_type": "code",
   "execution_count": 36,
   "id": "a3a6bfff-fb56-45a7-8abc-491359e1726d",
   "metadata": {},
   "outputs": [
    {
     "name": "stdout",
     "output_type": "stream",
     "text": [
      "Metinlerde Ortalama cümle uzunluğu: 16.35\n"
     ]
    }
   ],
   "source": [
    "# 'message' sütunundaki her bir metnin kelime sayısını hesapla\n",
    "message_lengths = data['text'].astype(str).apply(lambda x: len(x.split()))\n",
    "\n",
    "# Ortalama kelime uzunluğunu hesapla\n",
    "average_length = message_lengths.mean()\n",
    "\n",
    "print(f\"Metinlerde Ortalama cümle uzunluğu: {average_length:.2f}\")\n"
   ]
  },
  {
   "cell_type": "code",
   "execution_count": 37,
   "id": "5bc8750d-a082-4d0a-b481-d3ae1ace7013",
   "metadata": {},
   "outputs": [
    {
     "name": "stderr",
     "output_type": "stream",
     "text": [
      "[nltk_data] Downloading package stopwords to C:\\Users\\Halid Buğra\n",
      "[nltk_data]     Gökdeniz\\AppData\\Roaming\\nltk_data...\n",
      "[nltk_data]   Package stopwords is already up-to-date!\n",
      "C:\\Users\\Halid Buğra Gökdeniz\\AppData\\Local\\Temp\\ipykernel_13400\\2240246305.py:38: FutureWarning: \n",
      "\n",
      "Passing `palette` without assigning `hue` is deprecated and will be removed in v0.14.0. Assign the `x` variable to `hue` and set `legend=False` for the same effect.\n",
      "\n",
      "  sns.barplot(x=list(words), y=list(counts), palette='viridis')\n"
     ]
    },
    {
     "data": {
      "image/png": "[encoded data removed]",
      "text/plain": [
       "<Figure size 1000x600 with 1 Axes>"
      ]
     },
     "metadata": {},
     "output_type": "display_data"
    }
   ],
   "source": [
    "import matplotlib.pyplot as plt\n",
    "import seaborn as sns\n",
    "from collections import Counter\n",
    "import re\n",
    "import nltk\n",
    "nltk.download('stopwords')\n",
    "from nltk.corpus import stopwords\n",
    "\n",
    "# Örnek olarak 'message' sütunundaki metinleri alıyoruz (kendi verini kullanabilirsin)\n",
    "text_data = \" \".join(data['text'].astype(str))  # Tüm mesajları tek bir metin haline getiriyoruz\n",
    "\n",
    "# Metni temizleme: Noktalama işaretlerini kaldır, küçük harfe çevir\n",
    "cleaned_text = re.sub(r'[^\\w\\s]', '', text_data.lower())\n",
    "\n",
    "# Kelimeleri ayırma\n",
    "words = cleaned_text.split()\n",
    "\n",
    "# İngilizce stopwords listesini alıyoruz\n",
    "stop_words = set(stopwords.words('turkish'))\n",
    "\n",
    "## Çıkarmak istediğin kelimeleri bir diziye ekleyelim\n",
    "specific_words = ['user', 'bir', 'ben']  # Çıkarmak istediğin kelimeleri buraya ekle\n",
    "\n",
    "# Stopwords olmayan kelimeleri filtreleme ve spesifik kelimeleri de çıkartıyoruz\n",
    "filtered_words = [word for word in words if word not in stop_words and word not in specific_words]\n",
    "\n",
    "# Kelimeleri sayma\n",
    "word_counts = Counter(filtered_words)\n",
    "\n",
    "# En çok geçen 10 kelimeyi bulma\n",
    "most_common_words = word_counts.most_common(30)\n",
    "\n",
    "# Kelimeleri ve sayılarını ayrı listelere ayır\n",
    "words, counts = zip(*most_common_words)\n",
    "\n",
    "# Çubuk grafiği oluşturma\n",
    "plt.figure(figsize=(10, 6))\n",
    "sns.barplot(x=list(words), y=list(counts), palette='viridis')\n",
    "\n",
    "# Grafiğe başlık ve etiketler ekleyelim\n",
    "plt.title('En Çok Geçen 10 Kelime (mantıklı olan)', fontsize=16)\n",
    "plt.xlabel('Kelimeler', fontsize=12)\n",
    "plt.ylabel('Geçiş Sayısı', fontsize=12)\n",
    "\n",
    "# X eksenindeki kelimeleri 90 derece döndür (eğer kelimeler üst üste binerse)\n",
    "plt.xticks(rotation=45)\n",
    "\n",
    "# Grafiği gösterme\n",
    "plt.tight_layout()\n",
    "plt.show()\n"
   ]
  },
  {
   "cell_type": "code",
   "execution_count": 38,
   "id": "0fa4a083-9ffe-4e9a-adeb-b5823a94be09",
   "metadata": {},
   "outputs": [
    {
     "name": "stdout",
     "output_type": "stream",
     "text": [
      "Requirement already satisfied: TurkishStemmer in c:\\users\\halid buğra gökdeniz\\appdata\\local\\programs\\python\\python311\\lib\\site-packages (1.3)\n",
      "Note: you may need to restart the kernel to use updated packages.\n"
     ]
    },
    {
     "name": "stderr",
     "output_type": "stream",
     "text": [
      "\n",
      "[notice] A new release of pip is available: 23.1.2 -> 24.3.1\n",
      "[notice] To update, run: python.exe -m pip install --upgrade pip\n"
     ]
    }
   ],
   "source": [
    " pip install TurkishStemmer"
   ]
  },
  {
   "cell_type": "code",
   "execution_count": 39,
   "id": "1c35054d-6707-47e1-ba70-d3293113e42e",
   "metadata": {},
   "outputs": [],
   "source": [
    "from TurkishStemmer import TurkishStemmer"
   ]
  },
  {
   "cell_type": "code",
   "execution_count": 40,
   "id": "48f18931-8c82-4ab6-a7c0-f00c7bb36787",
   "metadata": {},
   "outputs": [
    {
     "data": {
      "text/plain": [
       "<TurkishStemmer.TurkishStemmer at 0x1b3a9268090>"
      ]
     },
     "execution_count": 40,
     "metadata": {},
     "output_type": "execute_result"
    }
   ],
   "source": [
    "turk_stem = TurkishStemmer()\n",
    "turk_stem"
   ]
  },
  {
   "cell_type": "code",
   "execution_count": 41,
   "id": "390fbb2d-ba50-4d94-bd5a-9d608fa728ab",
   "metadata": {},
   "outputs": [],
   "source": [
    "def stemming(content):\n",
    "    review = re.sub('[^A-ZĞÜŞİÇÖ^a-zığüşöç]',' ',content)\n",
    "    review = review.lower()\n",
    "    review = review.split()\n",
    "    review = [turk_stem.stem(word) for word in review if not word in stopwords.words('turkish')]\n",
    "    review = ' '.join(review)\n",
    "    return review"
   ]
  },
  {
   "cell_type": "code",
   "execution_count": 42,
   "id": "2a45d564-7523-435f-bf6b-6963783736c9",
   "metadata": {},
   "outputs": [],
   "source": [
    "data['text'] = data['text'].apply(stemming)"
   ]
  },
  {
   "cell_type": "code",
   "execution_count": 43,
   "id": "87b83c23-778b-42e3-85b9-b52505af5daa",
   "metadata": {},
   "outputs": [
    {
     "data": {
      "text/html": [
       "<div>\n",
       "<style scoped>\n",
       "    .dataframe tbody tr th:only-of-type {\n",
       "        vertical-align: middle;\n",
       "    }\n",
       "\n",
       "    .dataframe tbody tr th {\n",
       "        vertical-align: top;\n",
       "    }\n",
       "\n",
       "    .dataframe thead th {\n",
       "        text-align: right;\n",
       "    }\n",
       "</style>\n",
       "<table border=\"1\" class=\"dataframe\">\n",
       "  <thead>\n",
       "    <tr style=\"text-align: right;\">\n",
       "      <th></th>\n",
       "      <th>text</th>\n",
       "      <th>label</th>\n",
       "    </tr>\n",
       "  </thead>\n",
       "  <tbody>\n",
       "    <tr>\n",
       "      <th>0</th>\n",
       "      <td>gerçek siz hikaye izleyerek mi yen yıl girice</td>\n",
       "      <td>0</td>\n",
       "    </tr>\n",
       "    <tr>\n",
       "      <th>1</th>\n",
       "      <td>user çoook bi baklav bi sen zaten</td>\n",
       "      <td>0</td>\n",
       "    </tr>\n",
       "    <tr>\n",
       "      <th>2</th>\n",
       "      <td>sn dükel atatürk ün karm e m başlattık siyasi ...</td>\n",
       "      <td>0</td>\n",
       "    </tr>\n",
       "    <tr>\n",
       "      <th>3</th>\n",
       "      <td>konfederasyon ail sosyal politika bakanlık ist...</td>\n",
       "      <td>0</td>\n",
       "    </tr>\n",
       "    <tr>\n",
       "      <th>4</th>\n",
       "      <td>hakem tarih yazıyor kişi karş ön olacak alanya...</td>\n",
       "      <td>1</td>\n",
       "    </tr>\n",
       "  </tbody>\n",
       "</table>\n",
       "</div>"
      ],
      "text/plain": [
       "                                                text  label\n",
       "0      gerçek siz hikaye izleyerek mi yen yıl girice      0\n",
       "1                  user çoook bi baklav bi sen zaten      0\n",
       "2  sn dükel atatürk ün karm e m başlattık siyasi ...      0\n",
       "3  konfederasyon ail sosyal politika bakanlık ist...      0\n",
       "4  hakem tarih yazıyor kişi karş ön olacak alanya...      1"
      ]
     },
     "execution_count": 43,
     "metadata": {},
     "output_type": "execute_result"
    }
   ],
   "source": [
    "data.head(5)"
   ]
  },
  {
   "cell_type": "code",
   "execution_count": 44,
   "id": "e48b4c86-1565-487c-96f6-decf79fa4de0",
   "metadata": {},
   "outputs": [
    {
     "name": "stdout",
     "output_type": "stream",
     "text": [
      "Epoch 1/50\n"
     ]
    },
    {
     "name": "stderr",
     "output_type": "stream",
     "text": [
      "C:\\Users\\Halid Buğra Gökdeniz\\AppData\\Local\\Programs\\Python\\Python311\\Lib\\site-packages\\keras\\src\\layers\\core\\dense.py:87: UserWarning: Do not pass an `input_shape`/`input_dim` argument to a layer. When using Sequential models, prefer using an `Input(shape)` object as the first layer in the model instead.\n",
      "  super().__init__(activity_regularizer=activity_regularizer, **kwargs)\n"
     ]
    },
    {
     "name": "stdout",
     "output_type": "stream",
     "text": [
      "\u001b[1m875/875\u001b[0m \u001b[32m━━━━━━━━━━━━━━━━━━━━\u001b[0m\u001b[37m\u001b[0m \u001b[1m2s\u001b[0m 2ms/step - accuracy: 0.7848 - loss: 0.5004 - val_accuracy: 0.8109 - val_loss: 0.4435\n",
      "Epoch 2/50\n",
      "\u001b[1m875/875\u001b[0m \u001b[32m━━━━━━━━━━━━━━━━━━━━\u001b[0m\u001b[37m\u001b[0m \u001b[1m1s\u001b[0m 1ms/step - accuracy: 0.8115 - loss: 0.4372 - val_accuracy: 0.8195 - val_loss: 0.4214\n",
      "Epoch 3/50\n",
      "\u001b[1m875/875\u001b[0m \u001b[32m━━━━━━━━━━━━━━━━━━━━\u001b[0m\u001b[37m\u001b[0m \u001b[1m1s\u001b[0m 1ms/step - accuracy: 0.8202 - loss: 0.4175 - val_accuracy: 0.8133 - val_loss: 0.4224\n",
      "Epoch 4/50\n",
      "\u001b[1m875/875\u001b[0m \u001b[32m━━━━━━━━━━━━━━━━━━━━\u001b[0m\u001b[37m\u001b[0m \u001b[1m1s\u001b[0m 1ms/step - accuracy: 0.8241 - loss: 0.4089 - val_accuracy: 0.8202 - val_loss: 0.4094\n",
      "Epoch 5/50\n",
      "\u001b[1m875/875\u001b[0m \u001b[32m━━━━━━━━━━━━━━━━━━━━\u001b[0m\u001b[37m\u001b[0m \u001b[1m1s\u001b[0m 1ms/step - accuracy: 0.8250 - loss: 0.4059 - val_accuracy: 0.8201 - val_loss: 0.4075\n",
      "Epoch 6/50\n",
      "\u001b[1m875/875\u001b[0m \u001b[32m━━━━━━━━━━━━━━━━━━━━\u001b[0m\u001b[37m\u001b[0m \u001b[1m1s\u001b[0m 1ms/step - accuracy: 0.8204 - loss: 0.4074 - val_accuracy: 0.8127 - val_loss: 0.4189\n",
      "Epoch 7/50\n",
      "\u001b[1m875/875\u001b[0m \u001b[32m━━━━━━━━━━━━━━━━━━━━\u001b[0m\u001b[37m\u001b[0m \u001b[1m1s\u001b[0m 1ms/step - accuracy: 0.8255 - loss: 0.4038 - val_accuracy: 0.8095 - val_loss: 0.4231\n",
      "Epoch 8/50\n",
      "\u001b[1m875/875\u001b[0m \u001b[32m━━━━━━━━━━━━━━━━━━━━\u001b[0m\u001b[37m\u001b[0m \u001b[1m1s\u001b[0m 1ms/step - accuracy: 0.8296 - loss: 0.3988 - val_accuracy: 0.8198 - val_loss: 0.4039\n",
      "Epoch 9/50\n",
      "\u001b[1m875/875\u001b[0m \u001b[32m━━━━━━━━━━━━━━━━━━━━\u001b[0m\u001b[37m\u001b[0m \u001b[1m1s\u001b[0m 1ms/step - accuracy: 0.8208 - loss: 0.4058 - val_accuracy: 0.8202 - val_loss: 0.4018\n",
      "Epoch 10/50\n",
      "\u001b[1m875/875\u001b[0m \u001b[32m━━━━━━━━━━━━━━━━━━━━\u001b[0m\u001b[37m\u001b[0m \u001b[1m1s\u001b[0m 1ms/step - accuracy: 0.8253 - loss: 0.3983 - val_accuracy: 0.8177 - val_loss: 0.4094\n",
      "Epoch 11/50\n",
      "\u001b[1m875/875\u001b[0m \u001b[32m━━━━━━━━━━━━━━━━━━━━\u001b[0m\u001b[37m\u001b[0m \u001b[1m1s\u001b[0m 1ms/step - accuracy: 0.8282 - loss: 0.3951 - val_accuracy: 0.8213 - val_loss: 0.4049\n",
      "Epoch 12/50\n",
      "\u001b[1m875/875\u001b[0m \u001b[32m━━━━━━━━━━━━━━━━━━━━\u001b[0m\u001b[37m\u001b[0m \u001b[1m1s\u001b[0m 1ms/step - accuracy: 0.8212 - loss: 0.4054 - val_accuracy: 0.8206 - val_loss: 0.4055\n",
      "Epoch 13/50\n",
      "\u001b[1m875/875\u001b[0m \u001b[32m━━━━━━━━━━━━━━━━━━━━\u001b[0m\u001b[37m\u001b[0m \u001b[1m1s\u001b[0m 1ms/step - accuracy: 0.8247 - loss: 0.3994 - val_accuracy: 0.8016 - val_loss: 0.4297\n",
      "Epoch 14/50\n",
      "\u001b[1m875/875\u001b[0m \u001b[32m━━━━━━━━━━━━━━━━━━━━\u001b[0m\u001b[37m\u001b[0m \u001b[1m1s\u001b[0m 1ms/step - accuracy: 0.8196 - loss: 0.4089 - val_accuracy: 0.8220 - val_loss: 0.4000\n",
      "Epoch 15/50\n",
      "\u001b[1m875/875\u001b[0m \u001b[32m━━━━━━━━━━━━━━━━━━━━\u001b[0m\u001b[37m\u001b[0m \u001b[1m1s\u001b[0m 1ms/step - accuracy: 0.8251 - loss: 0.3985 - val_accuracy: 0.8228 - val_loss: 0.4003\n",
      "Epoch 16/50\n",
      "\u001b[1m875/875\u001b[0m \u001b[32m━━━━━━━━━━━━━━━━━━━━\u001b[0m\u001b[37m\u001b[0m \u001b[1m1s\u001b[0m 1ms/step - accuracy: 0.8215 - loss: 0.4038 - val_accuracy: 0.8188 - val_loss: 0.4062\n",
      "Epoch 17/50\n",
      "\u001b[1m875/875\u001b[0m \u001b[32m━━━━━━━━━━━━━━━━━━━━\u001b[0m\u001b[37m\u001b[0m \u001b[1m1s\u001b[0m 1ms/step - accuracy: 0.8232 - loss: 0.3987 - val_accuracy: 0.8202 - val_loss: 0.4028\n",
      "Epoch 18/50\n",
      "\u001b[1m875/875\u001b[0m \u001b[32m━━━━━━━━━━━━━━━━━━━━\u001b[0m\u001b[37m\u001b[0m \u001b[1m1s\u001b[0m 1ms/step - accuracy: 0.8241 - loss: 0.3996 - val_accuracy: 0.8219 - val_loss: 0.4010\n",
      "Epoch 19/50\n",
      "\u001b[1m875/875\u001b[0m \u001b[32m━━━━━━━━━━━━━━━━━━━━\u001b[0m\u001b[37m\u001b[0m \u001b[1m1s\u001b[0m 1ms/step - accuracy: 0.8266 - loss: 0.3952 - val_accuracy: 0.8232 - val_loss: 0.4008\n",
      "Epoch 20/50\n",
      "\u001b[1m875/875\u001b[0m \u001b[32m━━━━━━━━━━━━━━━━━━━━\u001b[0m\u001b[37m\u001b[0m \u001b[1m1s\u001b[0m 1ms/step - accuracy: 0.8230 - loss: 0.4020 - val_accuracy: 0.8200 - val_loss: 0.4008\n",
      "Epoch 21/50\n",
      "\u001b[1m875/875\u001b[0m \u001b[32m━━━━━━━━━━━━━━━━━━━━\u001b[0m\u001b[37m\u001b[0m \u001b[1m1s\u001b[0m 1ms/step - accuracy: 0.8265 - loss: 0.3958 - val_accuracy: 0.8197 - val_loss: 0.4056\n",
      "Epoch 22/50\n",
      "\u001b[1m875/875\u001b[0m \u001b[32m━━━━━━━━━━━━━━━━━━━━\u001b[0m\u001b[37m\u001b[0m \u001b[1m1s\u001b[0m 1ms/step - accuracy: 0.8290 - loss: 0.3917 - val_accuracy: 0.8218 - val_loss: 0.4036\n",
      "Epoch 23/50\n",
      "\u001b[1m875/875\u001b[0m \u001b[32m━━━━━━━━━━━━━━━━━━━━\u001b[0m\u001b[37m\u001b[0m \u001b[1m1s\u001b[0m 1ms/step - accuracy: 0.8246 - loss: 0.4003 - val_accuracy: 0.8198 - val_loss: 0.4025\n",
      "Epoch 24/50\n",
      "\u001b[1m875/875\u001b[0m \u001b[32m━━━━━━━━━━━━━━━━━━━━\u001b[0m\u001b[37m\u001b[0m \u001b[1m1s\u001b[0m 1ms/step - accuracy: 0.8235 - loss: 0.3980 - val_accuracy: 0.8188 - val_loss: 0.4083\n",
      "Epoch 25/50\n",
      "\u001b[1m875/875\u001b[0m \u001b[32m━━━━━━━━━━━━━━━━━━━━\u001b[0m\u001b[37m\u001b[0m \u001b[1m1s\u001b[0m 1ms/step - accuracy: 0.8236 - loss: 0.4001 - val_accuracy: 0.8222 - val_loss: 0.3986\n",
      "Epoch 26/50\n",
      "\u001b[1m875/875\u001b[0m \u001b[32m━━━━━━━━━━━━━━━━━━━━\u001b[0m\u001b[37m\u001b[0m \u001b[1m1s\u001b[0m 1ms/step - accuracy: 0.8276 - loss: 0.3904 - val_accuracy: 0.8189 - val_loss: 0.4040\n",
      "Epoch 27/50\n",
      "\u001b[1m875/875\u001b[0m \u001b[32m━━━━━━━━━━━━━━━━━━━━\u001b[0m\u001b[37m\u001b[0m \u001b[1m1s\u001b[0m 1ms/step - accuracy: 0.8271 - loss: 0.3940 - val_accuracy: 0.8123 - val_loss: 0.4115\n",
      "Epoch 28/50\n",
      "\u001b[1m875/875\u001b[0m \u001b[32m━━━━━━━━━━━━━━━━━━━━\u001b[0m\u001b[37m\u001b[0m \u001b[1m1s\u001b[0m 1ms/step - accuracy: 0.8248 - loss: 0.3951 - val_accuracy: 0.8220 - val_loss: 0.3994\n",
      "Epoch 29/50\n",
      "\u001b[1m875/875\u001b[0m \u001b[32m━━━━━━━━━━━━━━━━━━━━\u001b[0m\u001b[37m\u001b[0m \u001b[1m1s\u001b[0m 1ms/step - accuracy: 0.8260 - loss: 0.3975 - val_accuracy: 0.8219 - val_loss: 0.3991\n",
      "Epoch 30/50\n",
      "\u001b[1m875/875\u001b[0m \u001b[32m━━━━━━━━━━━━━━━━━━━━\u001b[0m\u001b[37m\u001b[0m \u001b[1m1s\u001b[0m 1ms/step - accuracy: 0.8255 - loss: 0.3991 - val_accuracy: 0.8220 - val_loss: 0.3988\n",
      "Epoch 31/50\n",
      "\u001b[1m875/875\u001b[0m \u001b[32m━━━━━━━━━━━━━━━━━━━━\u001b[0m\u001b[37m\u001b[0m \u001b[1m1s\u001b[0m 1ms/step - accuracy: 0.8287 - loss: 0.3921 - val_accuracy: 0.8207 - val_loss: 0.3981\n",
      "Epoch 32/50\n",
      "\u001b[1m875/875\u001b[0m \u001b[32m━━━━━━━━━━━━━━━━━━━━\u001b[0m\u001b[37m\u001b[0m \u001b[1m1s\u001b[0m 1ms/step - accuracy: 0.8213 - loss: 0.4048 - val_accuracy: 0.8227 - val_loss: 0.4059\n",
      "Epoch 33/50\n",
      "\u001b[1m875/875\u001b[0m \u001b[32m━━━━━━━━━━━━━━━━━━━━\u001b[0m\u001b[37m\u001b[0m \u001b[1m1s\u001b[0m 1ms/step - accuracy: 0.8284 - loss: 0.3967 - val_accuracy: 0.8222 - val_loss: 0.3978\n",
      "Epoch 34/50\n",
      "\u001b[1m875/875\u001b[0m \u001b[32m━━━━━━━━━━━━━━━━━━━━\u001b[0m\u001b[37m\u001b[0m \u001b[1m1s\u001b[0m 1ms/step - accuracy: 0.8283 - loss: 0.3955 - val_accuracy: 0.8192 - val_loss: 0.4045\n",
      "Epoch 35/50\n",
      "\u001b[1m875/875\u001b[0m \u001b[32m━━━━━━━━━━━━━━━━━━━━\u001b[0m\u001b[37m\u001b[0m \u001b[1m1s\u001b[0m 1ms/step - accuracy: 0.8278 - loss: 0.3903 - val_accuracy: 0.8225 - val_loss: 0.3985\n",
      "Epoch 36/50\n",
      "\u001b[1m875/875\u001b[0m \u001b[32m━━━━━━━━━━━━━━━━━━━━\u001b[0m\u001b[37m\u001b[0m \u001b[1m1s\u001b[0m 1ms/step - accuracy: 0.8257 - loss: 0.3945 - val_accuracy: 0.8175 - val_loss: 0.4056\n",
      "Epoch 37/50\n",
      "\u001b[1m875/875\u001b[0m \u001b[32m━━━━━━━━━━━━━━━━━━━━\u001b[0m\u001b[37m\u001b[0m \u001b[1m1s\u001b[0m 1ms/step - accuracy: 0.8273 - loss: 0.3926 - val_accuracy: 0.8192 - val_loss: 0.4020\n",
      "Epoch 38/50\n",
      "\u001b[1m875/875\u001b[0m \u001b[32m━━━━━━━━━━━━━━━━━━━━\u001b[0m\u001b[37m\u001b[0m \u001b[1m1s\u001b[0m 1ms/step - accuracy: 0.8257 - loss: 0.3970 - val_accuracy: 0.8198 - val_loss: 0.4026\n",
      "Epoch 39/50\n",
      "\u001b[1m875/875\u001b[0m \u001b[32m━━━━━━━━━━━━━━━━━━━━\u001b[0m\u001b[37m\u001b[0m \u001b[1m1s\u001b[0m 1ms/step - accuracy: 0.8274 - loss: 0.3959 - val_accuracy: 0.8236 - val_loss: 0.3985\n",
      "Epoch 40/50\n",
      "\u001b[1m875/875\u001b[0m \u001b[32m━━━━━━━━━━━━━━━━━━━━\u001b[0m\u001b[37m\u001b[0m \u001b[1m1s\u001b[0m 2ms/step - accuracy: 0.8247 - loss: 0.3995 - val_accuracy: 0.8207 - val_loss: 0.4011\n",
      "Epoch 41/50\n",
      "\u001b[1m875/875\u001b[0m \u001b[32m━━━━━━━━━━━━━━━━━━━━\u001b[0m\u001b[37m\u001b[0m \u001b[1m1s\u001b[0m 2ms/step - accuracy: 0.8293 - loss: 0.3922 - val_accuracy: 0.8236 - val_loss: 0.3994\n",
      "Epoch 42/50\n",
      "\u001b[1m875/875\u001b[0m \u001b[32m━━━━━━━━━━━━━━━━━━━━\u001b[0m\u001b[37m\u001b[0m \u001b[1m1s\u001b[0m 1ms/step - accuracy: 0.8276 - loss: 0.3911 - val_accuracy: 0.8207 - val_loss: 0.4011\n",
      "Epoch 43/50\n",
      "\u001b[1m875/875\u001b[0m \u001b[32m━━━━━━━━━━━━━━━━━━━━\u001b[0m\u001b[37m\u001b[0m \u001b[1m1s\u001b[0m 1ms/step - accuracy: 0.8324 - loss: 0.3848 - val_accuracy: 0.8202 - val_loss: 0.3996\n",
      "Epoch 44/50\n",
      "\u001b[1m875/875\u001b[0m \u001b[32m━━━━━━━━━━━━━━━━━━━━\u001b[0m\u001b[37m\u001b[0m \u001b[1m1s\u001b[0m 1ms/step - accuracy: 0.8295 - loss: 0.3904 - val_accuracy: 0.8227 - val_loss: 0.3972\n",
      "Epoch 45/50\n",
      "\u001b[1m875/875\u001b[0m \u001b[32m━━━━━━━━━━━━━━━━━━━━\u001b[0m\u001b[37m\u001b[0m \u001b[1m1s\u001b[0m 2ms/step - accuracy: 0.8249 - loss: 0.3965 - val_accuracy: 0.8201 - val_loss: 0.4021\n",
      "Epoch 46/50\n",
      "\u001b[1m875/875\u001b[0m \u001b[32m━━━━━━━━━━━━━━━━━━━━\u001b[0m\u001b[37m\u001b[0m \u001b[1m1s\u001b[0m 2ms/step - accuracy: 0.8251 - loss: 0.3953 - val_accuracy: 0.8217 - val_loss: 0.3993\n",
      "Epoch 47/50\n",
      "\u001b[1m875/875\u001b[0m \u001b[32m━━━━━━━━━━━━━━━━━━━━\u001b[0m\u001b[37m\u001b[0m \u001b[1m1s\u001b[0m 2ms/step - accuracy: 0.8266 - loss: 0.3945 - val_accuracy: 0.8207 - val_loss: 0.3990\n",
      "Epoch 48/50\n",
      "\u001b[1m875/875\u001b[0m \u001b[32m━━━━━━━━━━━━━━━━━━━━\u001b[0m\u001b[37m\u001b[0m \u001b[1m1s\u001b[0m 2ms/step - accuracy: 0.8254 - loss: 0.3982 - val_accuracy: 0.8223 - val_loss: 0.4001\n",
      "Epoch 49/50\n",
      "\u001b[1m875/875\u001b[0m \u001b[32m━━━━━━━━━━━━━━━━━━━━\u001b[0m\u001b[37m\u001b[0m \u001b[1m1s\u001b[0m 1ms/step - accuracy: 0.8287 - loss: 0.3933 - val_accuracy: 0.8211 - val_loss: 0.3991\n",
      "Epoch 50/50\n",
      "\u001b[1m875/875\u001b[0m \u001b[32m━━━━━━━━━━━━━━━━━━━━\u001b[0m\u001b[37m\u001b[0m \u001b[1m1s\u001b[0m 2ms/step - accuracy: 0.8307 - loss: 0.3877 - val_accuracy: 0.8219 - val_loss: 0.4029\n",
      "\u001b[1m375/375\u001b[0m \u001b[32m━━━━━━━━━━━━━━━━━━━━\u001b[0m\u001b[37m\u001b[0m \u001b[1m0s\u001b[0m 984us/step - accuracy: 0.8192 - loss: 0.4058\n",
      "Test Accuracy: 0.8219166398048401\n"
     ]
    }
   ],
   "source": [
    "from sklearn.feature_extraction.text import TfidfVectorizer\n",
    "from sklearn.decomposition import TruncatedSVD\n",
    "from sklearn.model_selection import train_test_split\n",
    "from sklearn.preprocessing import LabelEncoder\n",
    "from tensorflow.keras.models import Sequential\n",
    "from tensorflow.keras.layers import Dense\n",
    "from tensorflow.keras.utils import to_categorical\n",
    "import pandas as pd\n",
    "\n",
    "# İlk 30.000 veriyi seçelim ve eksik veya boş verileri temizleyelim\n",
    "data = data.dropna(subset=['text', 'label']).iloc[:40000]\n",
    "data = data[data['text'].str.strip() != '']\n",
    "\n",
    "# Metin verisini ve etiketleri ayıralım\n",
    "text_data = data['text']\n",
    "labels = data['label']\n",
    "\n",
    "# TF-IDF özellik çıkarımı (en çok kullanılan 10000 kelime)\n",
    "tfidf_vectorizer = TfidfVectorizer(max_features=10000)\n",
    "X_tfidf = tfidf_vectorizer.fit_transform(text_data)\n",
    "\n",
    "# SVD ile boyut indirgeme (3 boyuta indir)\n",
    "svd = TruncatedSVD(n_components=3, random_state=42)\n",
    "X_reduced = svd.fit_transform(X_tfidf)\n",
    "\n",
    "# Etiketleri sayısal verilere dönüştürme\n",
    "label_encoder = LabelEncoder()\n",
    "y_encoded = label_encoder.fit_transform(labels)\n",
    "y_categorical = to_categorical(y_encoded)\n",
    "\n",
    "# Eğitim ve test verilerini ayıralım\n",
    "X_train, X_test, y_train, y_test = train_test_split(X_reduced, y_categorical, test_size=0.3, random_state=42)\n",
    "\n",
    "# Yapay sinir ağı modelini tanımlayalım\n",
    "model = Sequential([\n",
    "    Dense(256, input_dim=3, activation='relu'),\n",
    "    Dense(128, activation='relu'),\n",
    "    Dense(y_categorical.shape[1], activation='softmax')\n",
    "])\n",
    "\n",
    "# Modeli derleyelim\n",
    "model.compile(optimizer='adam', loss='categorical_crossentropy', metrics=['accuracy'])\n",
    "\n",
    "# Modeli eğitelim\n",
    "history = model.fit(X_train, y_train, epochs=50, batch_size=32, validation_data=(X_test, y_test))\n",
    "\n",
    "# Modelin başarımını değerlendirme\n",
    "loss, accuracy = model.evaluate(X_test, y_test)\n",
    "print(f\"Test Accuracy: {accuracy}\")\n"
   ]
  },
  {
   "cell_type": "code",
   "execution_count": 45,
   "id": "89581635-8734-4539-8626-65bfc680bea1",
   "metadata": {},
   "outputs": [
    {
     "data": {
      "image/png": "[encoded data removed]",
      "text/plain": [
       "<Figure size 1200x600 with 1 Axes>"
      ]
     },
     "metadata": {},
     "output_type": "display_data"
    },
    {
     "data": {
      "image/png": "[encoded data removed]",
      "text/plain": [
       "<Figure size 1200x600 with 1 Axes>"
      ]
     },
     "metadata": {},
     "output_type": "display_data"
    }
   ],
   "source": [
    "plt.figure(figsize=(12, 6))\n",
    "plt.plot(history.history['loss'], label='Eğitim Kaybı', color='blue', linewidth=2)\n",
    "plt.plot(history.history['val_loss'], label='Doğrulama Kaybı', color='orange', linewidth=2)\n",
    "plt.title('Eğitim ve Doğrulama Kaybı')\n",
    "plt.xlabel('Epoch')\n",
    "plt.ylabel('Kayıp')\n",
    "plt.legend()\n",
    "plt.grid(True)\n",
    "plt.show()\n",
    "\n",
    "# Eğitim ve doğrulama doğruluğunu görselleştirme\n",
    "plt.figure(figsize=(12, 6))\n",
    "plt.plot(history.history['accuracy'], label='Eğitim Doğruluğu', color='green', linewidth=2)\n",
    "plt.plot(history.history['val_accuracy'], label='Doğrulama Doğruluğu', color='red', linewidth=2)\n",
    "plt.title('Eğitim ve Doğrulama Doğruluğu')\n",
    "plt.xlabel('Epoch')\n",
    "plt.ylabel('Doğruluk')\n",
    "plt.legend()\n",
    "plt.grid(True)\n",
    "plt.show()"
   ]
  },
  {
   "cell_type": "code",
   "execution_count": 46,
   "id": "922e7f27-7e16-4431-8cd6-217e673a4058",
   "metadata": {},
   "outputs": [
    {
     "name": "stdin",
     "output_type": "stream",
     "text": [
      "Bir metin girin (çıkmak için 'exit' yazın):  bok\n"
     ]
    },
    {
     "name": "stdout",
     "output_type": "stream",
     "text": [
      "\u001b[1m1/1\u001b[0m \u001b[32m━━━━━━━━━━━━━━━━━━━━\u001b[0m\u001b[37m\u001b[0m \u001b[1m0s\u001b[0m 51ms/step\n",
      "Tahmin edilen sınıf: 1\n"
     ]
    },
    {
     "name": "stdin",
     "output_type": "stream",
     "text": [
      "Bir metin girin (çıkmak için 'exit' yazın):  balon \n"
     ]
    },
    {
     "name": "stdout",
     "output_type": "stream",
     "text": [
      "\u001b[1m1/1\u001b[0m \u001b[32m━━━━━━━━━━━━━━━━━━━━\u001b[0m\u001b[37m\u001b[0m \u001b[1m0s\u001b[0m 21ms/step\n",
      "Tahmin edilen sınıf: 0\n"
     ]
    },
    {
     "name": "stdin",
     "output_type": "stream",
     "text": [
      "Bir metin girin (çıkmak için 'exit' yazın):  tarak\n"
     ]
    },
    {
     "name": "stdout",
     "output_type": "stream",
     "text": [
      "\u001b[1m1/1\u001b[0m \u001b[32m━━━━━━━━━━━━━━━━━━━━\u001b[0m\u001b[37m\u001b[0m \u001b[1m0s\u001b[0m 22ms/step\n",
      "Tahmin edilen sınıf: 0\n"
     ]
    },
    {
     "name": "stdin",
     "output_type": "stream",
     "text": [
      "Bir metin girin (çıkmak için 'exit' yazın):  kafasız\n"
     ]
    },
    {
     "name": "stdout",
     "output_type": "stream",
     "text": [
      "\u001b[1m1/1\u001b[0m \u001b[32m━━━━━━━━━━━━━━━━━━━━\u001b[0m\u001b[37m\u001b[0m \u001b[1m0s\u001b[0m 22ms/step\n",
      "Tahmin edilen sınıf: 0\n"
     ]
    },
    {
     "name": "stdin",
     "output_type": "stream",
     "text": [
      "Bir metin girin (çıkmak için 'exit' yazın):  deli\n"
     ]
    },
    {
     "name": "stdout",
     "output_type": "stream",
     "text": [
      "\u001b[1m1/1\u001b[0m \u001b[32m━━━━━━━━━━━━━━━━━━━━\u001b[0m\u001b[37m\u001b[0m \u001b[1m0s\u001b[0m 23ms/step\n",
      "Tahmin edilen sınıf: 0\n"
     ]
    },
    {
     "name": "stdin",
     "output_type": "stream",
     "text": [
      "Bir metin girin (çıkmak için 'exit' yazın):  salak\n"
     ]
    },
    {
     "name": "stdout",
     "output_type": "stream",
     "text": [
      "\u001b[1m1/1\u001b[0m \u001b[32m━━━━━━━━━━━━━━━━━━━━\u001b[0m\u001b[37m\u001b[0m \u001b[1m0s\u001b[0m 24ms/step\n",
      "Tahmin edilen sınıf: 1\n"
     ]
    },
    {
     "name": "stdin",
     "output_type": "stream",
     "text": [
      "Bir metin girin (çıkmak için 'exit' yazın):  exit\n"
     ]
    }
   ],
   "source": [
    "import numpy as np\n",
    "\n",
    "# Kullanıcıdan manuel giriş alma ve sınıflandırma\n",
    "def classify_text(manual_text, model, tfidf_vectorizer, svd, label_encoder):\n",
    "    # Metni TF-IDF ile dönüştür\n",
    "    text_tfidf = tfidf_vectorizer.transform([manual_text])\n",
    "    \n",
    "    # TF-IDF çıktısını SVD ile boyut indir\n",
    "    text_reduced = svd.transform(text_tfidf)\n",
    "    \n",
    "    # Model ile tahmin yap\n",
    "    prediction = model.predict(text_reduced)\n",
    "    \n",
    "    # Tahmini sınıfı etiket olarak çöz\n",
    "    predicted_label = label_encoder.inverse_transform([np.argmax(prediction)])\n",
    "    \n",
    "    return predicted_label[0]\n",
    "\n",
    "# Örnek kullanım\n",
    "while True:\n",
    "    user_input = input(\"Bir metin girin (çıkmak için 'exit' yazın): \")\n",
    "    if user_input.lower() == 'exit':\n",
    "        break\n",
    "    result = classify_text(user_input, model, tfidf_vectorizer, svd, label_encoder)\n",
    "    print(f\"Tahmin edilen sınıf: {result}\")\n"
   ]
  },
  {
   "cell_type": "code",
   "execution_count": 47,
   "id": "73dee28a-2734-4844-9cc9-8af0517dc632",
   "metadata": {},
   "outputs": [
    {
     "name": "stdout",
     "output_type": "stream",
     "text": [
      "Test Accuracy: 0.7731666666666667\n",
      "              precision    recall  f1-score   support\n",
      "\n",
      "           0       0.74      0.92      0.82      6719\n",
      "           1       0.85      0.59      0.70      5281\n",
      "\n",
      "    accuracy                           0.77     12000\n",
      "   macro avg       0.80      0.75      0.76     12000\n",
      "weighted avg       0.79      0.77      0.76     12000\n",
      "\n"
     ]
    }
   ],
   "source": [
    "from sklearn.feature_extraction.text import TfidfVectorizer\n",
    "from sklearn.decomposition import TruncatedSVD\n",
    "from sklearn.model_selection import train_test_split\n",
    "from sklearn.preprocessing import LabelEncoder\n",
    "from sklearn.svm import SVC\n",
    "from sklearn.metrics import accuracy_score, classification_report\n",
    "import pandas as pd\n",
    "\n",
    "# İlk 30.000 veriyi seçelim ve eksik veya boş verileri temizleyelim\n",
    "data = data.dropna(subset=['text', 'label']).iloc[:40000]\n",
    "data = data[data['text'].str.strip() != '']\n",
    "\n",
    "# Metin verisini ve etiketleri ayıralım\n",
    "text_data = data['text']\n",
    "labels = data['label']\n",
    "\n",
    "# TF-IDF özellik çıkarımı (en çok kullanılan 10000 kelime)\n",
    "tfidf_vectorizer = TfidfVectorizer(max_features=10000)\n",
    "X_tfidf = tfidf_vectorizer.fit_transform(text_data)\n",
    "\n",
    "# SVD ile boyut indirgeme (3 boyuta indir)\n",
    "svd = TruncatedSVD(n_components=3, random_state=42)\n",
    "X_reduced = svd.fit_transform(X_tfidf)\n",
    "\n",
    "# Etiketleri sayısal verilere dönüştürme\n",
    "label_encoder = LabelEncoder()\n",
    "y_encoded = label_encoder.fit_transform(labels)\n",
    "\n",
    "# Eğitim ve test verilerini ayıralım\n",
    "X_train, X_test, y_train, y_test = train_test_split(X_reduced, y_encoded, test_size=0.3, random_state=42)\n",
    "\n",
    "# SVM modelini tanımlayalım\n",
    "svm_model = SVC(kernel='linear', random_state=42)\n",
    "\n",
    "# Modeli eğitelim\n",
    "svm_model.fit(X_train, y_train)\n",
    "\n",
    "# Tahmin yapalım\n",
    "y_pred = svm_model.predict(X_test)\n",
    "\n",
    "# Modelin başarımını değerlendirelim\n",
    "accuracy = accuracy_score(y_test, y_pred)\n",
    "print(f\"Test Accuracy: {accuracy}\")\n",
    "\n",
    "# Sınıflandırma raporu yazdıralım\n",
    "print(classification_report(y_test, y_pred, target_names=[str(label) for label in label_encoder.classes_]))\n"
   ]
  },
  {
   "cell_type": "code",
   "execution_count": 48,
   "id": "b461c210-8f78-4c69-bdbd-f68ab69fe3f0",
   "metadata": {},
   "outputs": [
    {
     "name": "stdout",
     "output_type": "stream",
     "text": [
      "Test Accuracy: 0.78975\n",
      "              precision    recall  f1-score   support\n",
      "\n",
      "           0       0.76      0.91      0.83      6719\n",
      "           1       0.85      0.63      0.73      5281\n",
      "\n",
      "    accuracy                           0.79     12000\n",
      "   macro avg       0.81      0.77      0.78     12000\n",
      "weighted avg       0.80      0.79      0.78     12000\n",
      "\n"
     ]
    }
   ],
   "source": [
    "from sklearn.feature_extraction.text import TfidfVectorizer\n",
    "from sklearn.decomposition import TruncatedSVD\n",
    "from sklearn.model_selection import train_test_split\n",
    "from sklearn.preprocessing import LabelEncoder\n",
    "from sklearn.linear_model import LogisticRegression\n",
    "from sklearn.metrics import accuracy_score, classification_report\n",
    "import pandas as pd\n",
    "\n",
    "# İlk 30.000 veriyi seçelim ve eksik veya boş verileri temizleyelim\n",
    "data = data.dropna(subset=['text', 'label']).iloc[:40000]\n",
    "data = data[data['text'].str.strip() != '']\n",
    "\n",
    "# Metin verisini ve etiketleri ayıralım\n",
    "text_data = data['text']\n",
    "labels = data['label']\n",
    "\n",
    "# TF-IDF özellik çıkarımı (en çok kullanılan 10000 kelime)\n",
    "tfidf_vectorizer = TfidfVectorizer(max_features=10000)\n",
    "X_tfidf = tfidf_vectorizer.fit_transform(text_data)\n",
    "\n",
    "# SVD ile boyut indirgeme (3 boyuta indir)\n",
    "svd = TruncatedSVD(n_components=3, random_state=42)\n",
    "X_reduced = svd.fit_transform(X_tfidf)\n",
    "\n",
    "# Etiketleri sayısal verilere dönüştürme\n",
    "label_encoder = LabelEncoder()\n",
    "y_encoded = label_encoder.fit_transform(labels)\n",
    "\n",
    "# Eğitim ve test verilerini ayıralım\n",
    "X_train, X_test, y_train, y_test = train_test_split(X_reduced, y_encoded, test_size=0.3, random_state=42)\n",
    "\n",
    "# Logistic Regression modelini tanımlayalım\n",
    "logistic_model = LogisticRegression(max_iter=500, random_state=42)\n",
    "logistic_model.fit(X_train, y_train)\n",
    "\n",
    "# Tahmin yapalım\n",
    "y_pred = logistic_model.predict(X_test)\n",
    "\n",
    "# Modelin başarımını değerlendirelim\n",
    "accuracy = accuracy_score(y_test, y_pred)\n",
    "print(f\"Test Accuracy: {accuracy}\")\n",
    "\n",
    "# Sınıf adlarını string olarak geçelim\n",
    "target_names = [str(cls) for cls in label_encoder.classes_]\n",
    "\n",
    "# Sınıflandırma raporu yazdıralım\n",
    "print(classification_report(y_test, y_pred, target_names=target_names))\n"
   ]
  },
  {
   "cell_type": "code",
   "execution_count": 33,
   "id": "053ff217-73fa-40d9-b2f8-ee5bc4b1bb59",
   "metadata": {},
   "outputs": [
    {
     "name": "stdout",
     "output_type": "stream",
     "text": [
      "Test Accuracy: 0.8434166666666667\n",
      "              precision    recall  f1-score   support\n",
      "\n",
      "           0       0.79      0.98      0.87      6719\n",
      "           1       0.96      0.68      0.79      5281\n",
      "\n",
      "    accuracy                           0.84     12000\n",
      "   macro avg       0.87      0.83      0.83     12000\n",
      "weighted avg       0.86      0.84      0.84     12000\n",
      "\n"
     ]
    }
   ],
   "source": [
    "from sklearn.feature_extraction.text import TfidfVectorizer\n",
    "from sklearn.decomposition import TruncatedSVD\n",
    "from sklearn.model_selection import train_test_split\n",
    "from sklearn.preprocessing import LabelEncoder\n",
    "from sklearn.linear_model import LogisticRegression\n",
    "from sklearn.metrics import accuracy_score, classification_report\n",
    "import pandas as pd\n",
    "\n",
    "data = data.dropna(subset=['text', 'label']).iloc[:40000]\n",
    "data = data[data['text'].str.strip() != '']\n",
    "\n",
    "text_data = data['text']\n",
    "labels = data['label']\n",
    "\n",
    "tfidf_vectorizer = TfidfVectorizer(max_features=10000)\n",
    "X_tfidf = tfidf_vectorizer.fit_transform(text_data)\n",
    "\n",
    "X_reduced = svd.fit_transform(X_tfidf)\n",
    "\n",
    "label_encoder = LabelEncoder()\n",
    "y_encoded = label_encoder.fit_transform(labels)\n",
    "\n",
    "X_train, X_test, y_train, y_test = train_test_split(X_reduced, y_encoded, test_size=0.3, random_state=42)\n",
    "\n",
    "logistic_model = LogisticRegression(max_iter=500, random_state=42)\n",
    "logistic_model.fit(X_train, y_train)\n",
    "\n",
    "y_pred = logistic_model.predict(X_test)\n",
    "\n",
    "accuracy = accuracy_score(y_test, y_pred)\n",
    "print(f\"Test Accuracy: {accuracy}\")\n",
    "\n",
    "target_names = [str(cls) for cls in label_encoder.classes_]\n",
    "\n",
    "print(classification_report(y_test, y_pred, target_names=target_names))\n"
   ]
  },
  {
   "cell_type": "code",
   "execution_count": 49,
   "id": "dcbd4ef3-8a64-4a32-ac7b-38c6157fbb2e",
   "metadata": {},
   "outputs": [],
   "source": [
    "import stanza"
   ]
  },
  {
   "cell_type": "code",
   "execution_count": 50,
   "id": "c3ac2bea-3334-4ca2-9575-37c82250a9d9",
   "metadata": {},
   "outputs": [
    {
     "data": {
      "text/html": [
       "<div>\n",
       "<style scoped>\n",
       "    .dataframe tbody tr th:only-of-type {\n",
       "        vertical-align: middle;\n",
       "    }\n",
       "\n",
       "    .dataframe tbody tr th {\n",
       "        vertical-align: top;\n",
       "    }\n",
       "\n",
       "    .dataframe thead th {\n",
       "        text-align: right;\n",
       "    }\n",
       "</style>\n",
       "<table border=\"1\" class=\"dataframe\">\n",
       "  <thead>\n",
       "    <tr style=\"text-align: right;\">\n",
       "      <th></th>\n",
       "      <th>text</th>\n",
       "      <th>label</th>\n",
       "    </tr>\n",
       "  </thead>\n",
       "  <tbody>\n",
       "    <tr>\n",
       "      <th>0</th>\n",
       "      <td>gerçek siz hikaye izleyerek mi yen yıl girice</td>\n",
       "      <td>0</td>\n",
       "    </tr>\n",
       "    <tr>\n",
       "      <th>1</th>\n",
       "      <td>user çoook bi baklav bi sen zaten</td>\n",
       "      <td>0</td>\n",
       "    </tr>\n",
       "    <tr>\n",
       "      <th>2</th>\n",
       "      <td>sn dükel atatürk ün karm e m başlattık siyasi ...</td>\n",
       "      <td>0</td>\n",
       "    </tr>\n",
       "    <tr>\n",
       "      <th>3</th>\n",
       "      <td>konfederasyon ail sosyal politika bakanlık ist...</td>\n",
       "      <td>0</td>\n",
       "    </tr>\n",
       "    <tr>\n",
       "      <th>4</th>\n",
       "      <td>hakem tarih yazıyor kişi karş ön olacak alanya...</td>\n",
       "      <td>1</td>\n",
       "    </tr>\n",
       "  </tbody>\n",
       "</table>\n",
       "</div>"
      ],
      "text/plain": [
       "                                                text  label\n",
       "0      gerçek siz hikaye izleyerek mi yen yıl girice      0\n",
       "1                  user çoook bi baklav bi sen zaten      0\n",
       "2  sn dükel atatürk ün karm e m başlattık siyasi ...      0\n",
       "3  konfederasyon ail sosyal politika bakanlık ist...      0\n",
       "4  hakem tarih yazıyor kişi karş ön olacak alanya...      1"
      ]
     },
     "execution_count": 50,
     "metadata": {},
     "output_type": "execute_result"
    }
   ],
   "source": [
    "data.head()"
   ]
  },
  {
   "cell_type": "code",
   "execution_count": null,
   "id": "4bbfb4de-323e-4b9c-abdf-bcb13bdee430",
   "metadata": {},
   "outputs": [],
   "source": []
  }
 ],
 "metadata": {
  "kernelspec": {
   "display_name": "Python 3 (ipykernel)",
   "language": "python",
   "name": "python3"
  },
  "language_info": {
   "codemirror_mode": {
    "name": "ipython",
    "version": 3
   },
   "file_extension": ".py",
   "mimetype": "text/x-python",
   "name": "python",
   "nbconvert_exporter": "python",
   "pygments_lexer": "ipython3",
   "version": "3.11.4"
  }
 },
 "nbformat": 4,
 "nbformat_minor": 5
}
